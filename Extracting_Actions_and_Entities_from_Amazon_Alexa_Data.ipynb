{
  "nbformat": 4,
  "nbformat_minor": 0,
  "metadata": {
    "colab": {
      "name": "HW1 - Extracting Actions and Entities from Amazon Alexa Data",
      "provenance": [],
      "collapsed_sections": [],
      "include_colab_link": true
    },
    "kernelspec": {
      "name": "python3",
      "display_name": "Python 3"
    }
  },
  "cells": [
    {
      "cell_type": "markdown",
      "metadata": {
        "id": "view-in-github",
        "colab_type": "text"
      },
      "source": [
        "<a href=\"https://colab.research.google.com/github/mbparsons/code/blob/master/Extracting_Actions_and_Entities_from_Amazon_Alexa_Data.ipynb\" target=\"_parent\"><img src=\"https://colab.research.google.com/assets/colab-badge.svg\" alt=\"Open In Colab\"/></a>"
      ]
    },
    {
      "cell_type": "code",
      "metadata": {
        "id": "_C1MQjsOM273",
        "colab_type": "code",
        "outputId": "7ca33c51-4c13-4006-bd5e-fad55b604c0f",
        "colab": {
          "base_uri": "https://localhost:8080/",
          "height": 860
        }
      },
      "source": [
        "pip install -U spacy"
      ],
      "execution_count": 0,
      "outputs": [
        {
          "output_type": "stream",
          "text": [
            "Collecting spacy\n",
            "\u001b[?25l  Downloading https://files.pythonhosted.org/packages/47/13/80ad28ef7a16e2a86d16d73e28588be5f1085afd3e85e4b9b912bd700e8a/spacy-2.2.3-cp36-cp36m-manylinux1_x86_64.whl (10.4MB)\n",
            "\u001b[K     |████████████████████████████████| 10.4MB 2.8MB/s \n",
            "\u001b[?25hRequirement already satisfied, skipping upgrade: murmurhash<1.1.0,>=0.28.0 in /usr/local/lib/python3.6/dist-packages (from spacy) (1.0.2)\n",
            "Requirement already satisfied, skipping upgrade: numpy>=1.15.0 in /usr/local/lib/python3.6/dist-packages (from spacy) (1.17.5)\n",
            "Collecting blis<0.5.0,>=0.4.0\n",
            "\u001b[?25l  Downloading https://files.pythonhosted.org/packages/41/19/f95c75562d18eb27219df3a3590b911e78d131b68466ad79fdf5847eaac4/blis-0.4.1-cp36-cp36m-manylinux1_x86_64.whl (3.7MB)\n",
            "\u001b[K     |████████████████████████████████| 3.7MB 43.3MB/s \n",
            "\u001b[?25hRequirement already satisfied, skipping upgrade: srsly<1.1.0,>=0.1.0 in /usr/local/lib/python3.6/dist-packages (from spacy) (1.0.1)\n",
            "Collecting catalogue<1.1.0,>=0.0.7\n",
            "  Downloading https://files.pythonhosted.org/packages/6c/f9/9a5658e2f56932e41eb264941f9a2cb7f3ce41a80cb36b2af6ab78e2f8af/catalogue-1.0.0-py2.py3-none-any.whl\n",
            "Requirement already satisfied, skipping upgrade: requests<3.0.0,>=2.13.0 in /usr/local/lib/python3.6/dist-packages (from spacy) (2.21.0)\n",
            "Requirement already satisfied, skipping upgrade: cymem<2.1.0,>=2.0.2 in /usr/local/lib/python3.6/dist-packages (from spacy) (2.0.3)\n",
            "Requirement already satisfied, skipping upgrade: setuptools in /usr/local/lib/python3.6/dist-packages (from spacy) (42.0.2)\n",
            "Collecting preshed<3.1.0,>=3.0.2\n",
            "\u001b[?25l  Downloading https://files.pythonhosted.org/packages/db/6b/e07fad36913879757c90ba03d6fb7f406f7279e11dcefc105ee562de63ea/preshed-3.0.2-cp36-cp36m-manylinux1_x86_64.whl (119kB)\n",
            "\u001b[K     |████████████████████████████████| 122kB 53.2MB/s \n",
            "\u001b[?25hRequirement already satisfied, skipping upgrade: wasabi<1.1.0,>=0.4.0 in /usr/local/lib/python3.6/dist-packages (from spacy) (0.6.0)\n",
            "Requirement already satisfied, skipping upgrade: plac<1.2.0,>=0.9.6 in /usr/local/lib/python3.6/dist-packages (from spacy) (0.9.6)\n",
            "Collecting thinc<7.4.0,>=7.3.0\n",
            "\u001b[?25l  Downloading https://files.pythonhosted.org/packages/07/59/6bb553bc9a5f072d3cd479fc939fea0f6f682892f1f5cff98de5c9b615bb/thinc-7.3.1-cp36-cp36m-manylinux1_x86_64.whl (2.2MB)\n",
            "\u001b[K     |████████████████████████████████| 2.2MB 32.4MB/s \n",
            "\u001b[?25hRequirement already satisfied, skipping upgrade: importlib-metadata>=0.20; python_version < \"3.8\" in /usr/local/lib/python3.6/dist-packages (from catalogue<1.1.0,>=0.0.7->spacy) (1.4.0)\n",
            "Requirement already satisfied, skipping upgrade: urllib3<1.25,>=1.21.1 in /usr/local/lib/python3.6/dist-packages (from requests<3.0.0,>=2.13.0->spacy) (1.24.3)\n",
            "Requirement already satisfied, skipping upgrade: certifi>=2017.4.17 in /usr/local/lib/python3.6/dist-packages (from requests<3.0.0,>=2.13.0->spacy) (2019.11.28)\n",
            "Requirement already satisfied, skipping upgrade: chardet<3.1.0,>=3.0.2 in /usr/local/lib/python3.6/dist-packages (from requests<3.0.0,>=2.13.0->spacy) (3.0.4)\n",
            "Requirement already satisfied, skipping upgrade: idna<2.9,>=2.5 in /usr/local/lib/python3.6/dist-packages (from requests<3.0.0,>=2.13.0->spacy) (2.8)\n",
            "Requirement already satisfied, skipping upgrade: tqdm<5.0.0,>=4.10.0 in /usr/local/lib/python3.6/dist-packages (from thinc<7.4.0,>=7.3.0->spacy) (4.28.1)\n",
            "Requirement already satisfied, skipping upgrade: zipp>=0.5 in /usr/local/lib/python3.6/dist-packages (from importlib-metadata>=0.20; python_version < \"3.8\"->catalogue<1.1.0,>=0.0.7->spacy) (0.6.0)\n",
            "Requirement already satisfied, skipping upgrade: more-itertools in /usr/local/lib/python3.6/dist-packages (from zipp>=0.5->importlib-metadata>=0.20; python_version < \"3.8\"->catalogue<1.1.0,>=0.0.7->spacy) (8.0.2)\n",
            "Installing collected packages: blis, catalogue, preshed, thinc, spacy\n",
            "  Found existing installation: blis 0.2.4\n",
            "    Uninstalling blis-0.2.4:\n",
            "      Successfully uninstalled blis-0.2.4\n",
            "  Found existing installation: preshed 2.0.1\n",
            "    Uninstalling preshed-2.0.1:\n",
            "      Successfully uninstalled preshed-2.0.1\n",
            "  Found existing installation: thinc 7.0.8\n",
            "    Uninstalling thinc-7.0.8:\n",
            "      Successfully uninstalled thinc-7.0.8\n",
            "  Found existing installation: spacy 2.1.9\n",
            "    Uninstalling spacy-2.1.9:\n",
            "      Successfully uninstalled spacy-2.1.9\n",
            "Successfully installed blis-0.4.1 catalogue-1.0.0 preshed-3.0.2 spacy-2.2.3 thinc-7.3.1\n"
          ],
          "name": "stdout"
        }
      ]
    },
    {
      "cell_type": "code",
      "metadata": {
        "id": "5T5pY5rAY6BE",
        "colab_type": "code",
        "outputId": "8f0b5254-c33c-4e5f-d763-fbee5cb0f101",
        "colab": {
          "base_uri": "https://localhost:8080/",
          "height": 737
        }
      },
      "source": [
        "!python -m spacy download en"
      ],
      "execution_count": 0,
      "outputs": [
        {
          "output_type": "stream",
          "text": [
            "Collecting en_core_web_sm==2.2.5\n",
            "\u001b[?25l  Downloading https://github.com/explosion/spacy-models/releases/download/en_core_web_sm-2.2.5/en_core_web_sm-2.2.5.tar.gz (12.0MB)\n",
            "\u001b[K     |████████████████████████████████| 12.0MB 604kB/s \n",
            "\u001b[?25hRequirement already satisfied: spacy>=2.2.2 in /usr/local/lib/python3.6/dist-packages (from en_core_web_sm==2.2.5) (2.2.3)\n",
            "Requirement already satisfied: blis<0.5.0,>=0.4.0 in /usr/local/lib/python3.6/dist-packages (from spacy>=2.2.2->en_core_web_sm==2.2.5) (0.4.1)\n",
            "Requirement already satisfied: thinc<7.4.0,>=7.3.0 in /usr/local/lib/python3.6/dist-packages (from spacy>=2.2.2->en_core_web_sm==2.2.5) (7.3.1)\n",
            "Requirement already satisfied: numpy>=1.15.0 in /usr/local/lib/python3.6/dist-packages (from spacy>=2.2.2->en_core_web_sm==2.2.5) (1.17.5)\n",
            "Requirement already satisfied: srsly<1.1.0,>=0.1.0 in /usr/local/lib/python3.6/dist-packages (from spacy>=2.2.2->en_core_web_sm==2.2.5) (1.0.1)\n",
            "Requirement already satisfied: setuptools in /usr/local/lib/python3.6/dist-packages (from spacy>=2.2.2->en_core_web_sm==2.2.5) (42.0.2)\n",
            "Requirement already satisfied: requests<3.0.0,>=2.13.0 in /usr/local/lib/python3.6/dist-packages (from spacy>=2.2.2->en_core_web_sm==2.2.5) (2.21.0)\n",
            "Requirement already satisfied: cymem<2.1.0,>=2.0.2 in /usr/local/lib/python3.6/dist-packages (from spacy>=2.2.2->en_core_web_sm==2.2.5) (2.0.3)\n",
            "Requirement already satisfied: catalogue<1.1.0,>=0.0.7 in /usr/local/lib/python3.6/dist-packages (from spacy>=2.2.2->en_core_web_sm==2.2.5) (1.0.0)\n",
            "Requirement already satisfied: murmurhash<1.1.0,>=0.28.0 in /usr/local/lib/python3.6/dist-packages (from spacy>=2.2.2->en_core_web_sm==2.2.5) (1.0.2)\n",
            "Requirement already satisfied: preshed<3.1.0,>=3.0.2 in /usr/local/lib/python3.6/dist-packages (from spacy>=2.2.2->en_core_web_sm==2.2.5) (3.0.2)\n",
            "Requirement already satisfied: plac<1.2.0,>=0.9.6 in /usr/local/lib/python3.6/dist-packages (from spacy>=2.2.2->en_core_web_sm==2.2.5) (0.9.6)\n",
            "Requirement already satisfied: wasabi<1.1.0,>=0.4.0 in /usr/local/lib/python3.6/dist-packages (from spacy>=2.2.2->en_core_web_sm==2.2.5) (0.6.0)\n",
            "Requirement already satisfied: tqdm<5.0.0,>=4.10.0 in /usr/local/lib/python3.6/dist-packages (from thinc<7.4.0,>=7.3.0->spacy>=2.2.2->en_core_web_sm==2.2.5) (4.28.1)\n",
            "Requirement already satisfied: chardet<3.1.0,>=3.0.2 in /usr/local/lib/python3.6/dist-packages (from requests<3.0.0,>=2.13.0->spacy>=2.2.2->en_core_web_sm==2.2.5) (3.0.4)\n",
            "Requirement already satisfied: urllib3<1.25,>=1.21.1 in /usr/local/lib/python3.6/dist-packages (from requests<3.0.0,>=2.13.0->spacy>=2.2.2->en_core_web_sm==2.2.5) (1.24.3)\n",
            "Requirement already satisfied: idna<2.9,>=2.5 in /usr/local/lib/python3.6/dist-packages (from requests<3.0.0,>=2.13.0->spacy>=2.2.2->en_core_web_sm==2.2.5) (2.8)\n",
            "Requirement already satisfied: certifi>=2017.4.17 in /usr/local/lib/python3.6/dist-packages (from requests<3.0.0,>=2.13.0->spacy>=2.2.2->en_core_web_sm==2.2.5) (2019.11.28)\n",
            "Requirement already satisfied: importlib-metadata>=0.20; python_version < \"3.8\" in /usr/local/lib/python3.6/dist-packages (from catalogue<1.1.0,>=0.0.7->spacy>=2.2.2->en_core_web_sm==2.2.5) (1.4.0)\n",
            "Requirement already satisfied: zipp>=0.5 in /usr/local/lib/python3.6/dist-packages (from importlib-metadata>=0.20; python_version < \"3.8\"->catalogue<1.1.0,>=0.0.7->spacy>=2.2.2->en_core_web_sm==2.2.5) (0.6.0)\n",
            "Requirement already satisfied: more-itertools in /usr/local/lib/python3.6/dist-packages (from zipp>=0.5->importlib-metadata>=0.20; python_version < \"3.8\"->catalogue<1.1.0,>=0.0.7->spacy>=2.2.2->en_core_web_sm==2.2.5) (8.0.2)\n",
            "Building wheels for collected packages: en-core-web-sm\n",
            "  Building wheel for en-core-web-sm (setup.py) ... \u001b[?25l\u001b[?25hdone\n",
            "  Created wheel for en-core-web-sm: filename=en_core_web_sm-2.2.5-cp36-none-any.whl size=12011741 sha256=57fde9ccb30a50c30ea568f8ee950480ddaae37d1493639bb1c53875d54185f5\n",
            "  Stored in directory: /tmp/pip-ephem-wheel-cache-uog1rjpw/wheels/6a/47/fb/6b5a0b8906d8e8779246c67d4658fd8a544d4a03a75520197a\n",
            "Successfully built en-core-web-sm\n",
            "Installing collected packages: en-core-web-sm\n",
            "  Found existing installation: en-core-web-sm 2.1.0\n",
            "    Uninstalling en-core-web-sm-2.1.0:\n",
            "      Successfully uninstalled en-core-web-sm-2.1.0\n",
            "Successfully installed en-core-web-sm-2.2.5\n",
            "\u001b[38;5;2m✔ Download and installation successful\u001b[0m\n",
            "You can now load the model via spacy.load('en_core_web_sm')\n",
            "\u001b[38;5;2m✔ Linking successful\u001b[0m\n",
            "/usr/local/lib/python3.6/dist-packages/en_core_web_sm -->\n",
            "/usr/local/lib/python3.6/dist-packages/spacy/data/en\n",
            "You can now load the model via spacy.load('en')\n"
          ],
          "name": "stdout"
        }
      ]
    },
    {
      "cell_type": "code",
      "metadata": {
        "id": "B7IZJ9zaddUG",
        "colab_type": "code",
        "colab": {}
      },
      "source": [
        "import spacy"
      ],
      "execution_count": 0,
      "outputs": []
    },
    {
      "cell_type": "code",
      "metadata": {
        "id": "qDE_A4WDdqCV",
        "colab_type": "code",
        "colab": {}
      },
      "source": [
        "sp = spacy.load('en_core_web_sm')"
      ],
      "execution_count": 0,
      "outputs": []
    },
    {
      "cell_type": "code",
      "metadata": {
        "id": "bpi2KPuldrMb",
        "colab_type": "code",
        "colab": {}
      },
      "source": [
        "sentence = sp(u'Manchester United is looking to sign a forward for $90 million')"
      ],
      "execution_count": 0,
      "outputs": []
    },
    {
      "cell_type": "code",
      "metadata": {
        "id": "9DtPE14kdznF",
        "colab_type": "code",
        "outputId": "597f0193-bd14-4163-e7db-bb8a53334ed1",
        "colab": {
          "base_uri": "https://localhost:8080/",
          "height": 221
        }
      },
      "source": [
        "for word in sentence:\n",
        "    print(word.text)"
      ],
      "execution_count": 0,
      "outputs": [
        {
          "output_type": "stream",
          "text": [
            "Manchester\n",
            "United\n",
            "is\n",
            "looking\n",
            "to\n",
            "sign\n",
            "a\n",
            "forward\n",
            "for\n",
            "$\n",
            "90\n",
            "million\n"
          ],
          "name": "stdout"
        }
      ]
    },
    {
      "cell_type": "code",
      "metadata": {
        "id": "RF83arRSd66z",
        "colab_type": "code",
        "outputId": "4a4d161e-ba37-4679-f966-4d2edc451437",
        "colab": {
          "base_uri": "https://localhost:8080/",
          "height": 221
        }
      },
      "source": [
        "for word in sentence:\n",
        "    print(word.text,  word.pos_)"
      ],
      "execution_count": 0,
      "outputs": [
        {
          "output_type": "stream",
          "text": [
            "Manchester PROPN\n",
            "United PROPN\n",
            "is AUX\n",
            "looking VERB\n",
            "to PART\n",
            "sign VERB\n",
            "a DET\n",
            "forward NOUN\n",
            "for ADP\n",
            "$ SYM\n",
            "90 NUM\n",
            "million NUM\n"
          ],
          "name": "stdout"
        }
      ]
    },
    {
      "cell_type": "code",
      "metadata": {
        "id": "XZt-lGYReEdW",
        "colab_type": "code",
        "colab": {}
      },
      "source": [
        "sentence2 = sp(u\"Manchester United isn't looking to sign any forward.\")"
      ],
      "execution_count": 0,
      "outputs": []
    },
    {
      "cell_type": "code",
      "metadata": {
        "id": "ADDv5DgOeCbz",
        "colab_type": "code",
        "outputId": "a208e9a4-c648-407e-ded0-a03fca8599f9",
        "colab": {
          "base_uri": "https://localhost:8080/",
          "height": 187
        }
      },
      "source": [
        "for word in sentence2:\n",
        "    print(word.text,  word.pos_, word.dep_)"
      ],
      "execution_count": 0,
      "outputs": [
        {
          "output_type": "stream",
          "text": [
            "Manchester PROPN compound\n",
            "United PROPN nsubj\n",
            "is AUX aux\n",
            "n't PART neg\n",
            "looking VERB ROOT\n",
            "to PART aux\n",
            "sign VERB xcomp\n",
            "any DET advmod\n",
            "forward ADV advmod\n",
            ". PUNCT punct\n"
          ],
          "name": "stdout"
        }
      ]
    },
    {
      "cell_type": "code",
      "metadata": {
        "id": "-Q1_O9H3eF2w",
        "colab_type": "code",
        "colab": {}
      },
      "source": [
        "document = sp(u'Hello from Stackabuse. The site with the best Python Tutorials. What are you looking for?')"
      ],
      "execution_count": 0,
      "outputs": []
    },
    {
      "cell_type": "code",
      "metadata": {
        "id": "LzFB2er5eNZc",
        "colab_type": "code",
        "outputId": "dd483709-af90-47b2-995c-38ea7722bf3d",
        "colab": {
          "base_uri": "https://localhost:8080/",
          "height": 68
        }
      },
      "source": [
        "for sentence in document.sents:\n",
        "    print(sentence)"
      ],
      "execution_count": 0,
      "outputs": [
        {
          "output_type": "stream",
          "text": [
            "Hello from Stackabuse.\n",
            "The site with the best Python Tutorials.\n",
            "What are you looking for?\n"
          ],
          "name": "stdout"
        }
      ]
    },
    {
      "cell_type": "code",
      "metadata": {
        "id": "Nvk-yMjieObr",
        "colab_type": "code",
        "outputId": "bacfd1ad-bf56-44c3-8a82-c284f6250436",
        "colab": {
          "base_uri": "https://localhost:8080/",
          "height": 34
        }
      },
      "source": [
        "document[4]"
      ],
      "execution_count": 0,
      "outputs": [
        {
          "output_type": "execute_result",
          "data": {
            "text/plain": [
              "The"
            ]
          },
          "metadata": {
            "tags": []
          },
          "execution_count": 18
        }
      ]
    },
    {
      "cell_type": "code",
      "metadata": {
        "id": "dGoNiCCdeUV9",
        "colab_type": "code",
        "outputId": "8309769b-dc22-4294-b184-dcffc6857f08",
        "colab": {
          "base_uri": "https://localhost:8080/",
          "height": 34
        }
      },
      "source": [
        "document[4].is_sent_start"
      ],
      "execution_count": 0,
      "outputs": [
        {
          "output_type": "execute_result",
          "data": {
            "text/plain": [
              "True"
            ]
          },
          "metadata": {
            "tags": []
          },
          "execution_count": 19
        }
      ]
    },
    {
      "cell_type": "code",
      "metadata": {
        "id": "SsBkqnuKejny",
        "colab_type": "code",
        "outputId": "d0ea79d6-0fe1-4a86-acd0-573b6503d163",
        "colab": {
          "base_uri": "https://localhost:8080/",
          "height": 34
        }
      },
      "source": [
        "len(sentence2)"
      ],
      "execution_count": 0,
      "outputs": [
        {
          "output_type": "execute_result",
          "data": {
            "text/plain": [
              "10"
            ]
          },
          "metadata": {
            "tags": []
          },
          "execution_count": 20
        }
      ]
    },
    {
      "cell_type": "code",
      "metadata": {
        "id": "VjTyNPOne5J2",
        "colab_type": "code",
        "colab": {}
      },
      "source": [
        "sentence5 = sp(u'Manchester United is looking to sign Harry Kane for $90 million')  "
      ],
      "execution_count": 0,
      "outputs": []
    },
    {
      "cell_type": "code",
      "metadata": {
        "id": "GcSL3w3be9uU",
        "colab_type": "code",
        "outputId": "d47e4109-f28d-47bf-f8e7-7c96edf8ff3c",
        "colab": {
          "base_uri": "https://localhost:8080/",
          "height": 221
        }
      },
      "source": [
        "for word in sentence5:\n",
        "    print(word.text)"
      ],
      "execution_count": 0,
      "outputs": [
        {
          "output_type": "stream",
          "text": [
            "Manchester\n",
            "United\n",
            "is\n",
            "looking\n",
            "to\n",
            "sign\n",
            "Harry\n",
            "Kane\n",
            "for\n",
            "$\n",
            "90\n",
            "million\n"
          ],
          "name": "stdout"
        }
      ]
    },
    {
      "cell_type": "code",
      "metadata": {
        "id": "TMjg0GNOelhU",
        "colab_type": "code",
        "outputId": "44eacd4e-9756-4a59-eaa1-d3789447901b",
        "colab": {
          "base_uri": "https://localhost:8080/",
          "height": 68
        }
      },
      "source": [
        "for entity in sentence5.ents:\n",
        "    print(entity.text + ' - ' + entity.label_ + ' - ' + str(spacy.explain(entity.label_)))"
      ],
      "execution_count": 0,
      "outputs": [
        {
          "output_type": "stream",
          "text": [
            "Manchester United - PERSON - People, including fictional\n",
            "Harry Kane - PERSON - People, including fictional\n",
            "$90 million - MONEY - Monetary values, including unit\n"
          ],
          "name": "stdout"
        }
      ]
    },
    {
      "cell_type": "code",
      "metadata": {
        "id": "uDLx4cdgeuEI",
        "colab_type": "code",
        "outputId": "03c46872-21eb-4cde-bacd-25a5eaf57bf4",
        "colab": {
          "base_uri": "https://localhost:8080/",
          "height": 51
        }
      },
      "source": [
        "for noun in sentence5.noun_chunks:\n",
        "    print(noun.text)"
      ],
      "execution_count": 0,
      "outputs": [
        {
          "output_type": "stream",
          "text": [
            "Manchester United\n",
            "Harry Kane\n"
          ],
          "name": "stdout"
        }
      ]
    },
    {
      "cell_type": "code",
      "metadata": {
        "id": "fXPGtq2afK0d",
        "colab_type": "code",
        "colab": {}
      },
      "source": [
        "import nltk\n",
        "\n",
        "from nltk.stem.porter import *"
      ],
      "execution_count": 0,
      "outputs": []
    },
    {
      "cell_type": "code",
      "metadata": {
        "id": "UQ08-QggfS4X",
        "colab_type": "code",
        "outputId": "d2296e1e-9509-4fe3-f710-17b5aaf76162",
        "colab": {
          "base_uri": "https://localhost:8080/",
          "height": 85
        }
      },
      "source": [
        "stemmer = PorterStemmer()\n",
        "tokens = ['compute', 'computer', 'computed', 'computing']\n",
        "for token in tokens:\n",
        "    print(token + ' --> ' + stemmer.stem(token))"
      ],
      "execution_count": 0,
      "outputs": [
        {
          "output_type": "stream",
          "text": [
            "compute --> comput\n",
            "computer --> comput\n",
            "computed --> comput\n",
            "computing --> comput\n"
          ],
          "name": "stdout"
        }
      ]
    },
    {
      "cell_type": "code",
      "metadata": {
        "id": "30SOHblfffTT",
        "colab_type": "code",
        "outputId": "9aa9395a-d84a-4d9c-9e91-d0f72a96eb1e",
        "colab": {
          "base_uri": "https://localhost:8080/",
          "height": 85
        }
      },
      "source": [
        "from nltk.stem.snowball import SnowballStemmer\n",
        "\n",
        "stemmer = SnowballStemmer(language='english')\n",
        "\n",
        "tokens = ['compute', 'computer', 'computed', 'computing']\n",
        "\n",
        "for token in tokens:\n",
        "    print(token + ' --> ' + stemmer.stem(token))\n"
      ],
      "execution_count": 0,
      "outputs": [
        {
          "output_type": "stream",
          "text": [
            "compute --> comput\n",
            "computer --> comput\n",
            "computed --> comput\n",
            "computing --> comput\n"
          ],
          "name": "stdout"
        }
      ]
    },
    {
      "cell_type": "code",
      "metadata": {
        "id": "xw6GknctfoO6",
        "colab_type": "code",
        "outputId": "29b0df63-00cf-4fe9-fcf6-d4ab4374f480",
        "colab": {
          "base_uri": "https://localhost:8080/",
          "height": 85
        }
      },
      "source": [
        "sentence6 = sp(u'compute computer computed computing')\n",
        "for word in sentence6:\n",
        "    print(word.text,  word.lemma_)"
      ],
      "execution_count": 0,
      "outputs": [
        {
          "output_type": "stream",
          "text": [
            "compute compute\n",
            "computer computer\n",
            "computed compute\n",
            "computing computing\n"
          ],
          "name": "stdout"
        }
      ]
    },
    {
      "cell_type": "code",
      "metadata": {
        "id": "7Qg1yXm5fyBs",
        "colab_type": "code",
        "outputId": "55bfa303-e217-48c1-af41-42494248f685",
        "colab": {
          "base_uri": "https://localhost:8080/",
          "height": 204
        }
      },
      "source": [
        "sentence7 = sp(u'A letter has been written, asking him to be released')\n",
        "\n",
        "for word in sentence7:\n",
        "    print(word.text + '  ===>', word.lemma_)"
      ],
      "execution_count": 0,
      "outputs": [
        {
          "output_type": "stream",
          "text": [
            "A  ===> a\n",
            "letter  ===> letter\n",
            "has  ===> have\n",
            "been  ===> be\n",
            "written  ===> write\n",
            ",  ===> ,\n",
            "asking  ===> ask\n",
            "him  ===> -PRON-\n",
            "to  ===> to\n",
            "be  ===> be\n",
            "released  ===> release\n"
          ],
          "name": "stdout"
        }
      ]
    },
    {
      "cell_type": "code",
      "metadata": {
        "id": "B9Ok9Hj0goJQ",
        "colab_type": "code",
        "colab": {}
      },
      "source": [
        "import pandas as pd\n",
        "import numpy as np\n",
        "import seaborn as sns\n",
        "import matplotlib.pyplot as plt\n",
        "import os\n",
        "\n",
        "import statsmodels.api as sm\n",
        "\n",
        "import sklearn as sk\n",
        "from sklearn.model_selection import train_test_split\n",
        "from sklearn.linear_model import LassoLarsCV\n",
        "from statsmodels.stats.outliers_influence import variance_inflation_factor\n",
        "from sklearn.linear_model import LassoCV, LarsCV, LassoLarsCV\n",
        "from sklearn.metrics import mean_squared_error, r2_score, mean_absolute_error, accuracy_score"
      ],
      "execution_count": 0,
      "outputs": []
    },
    {
      "cell_type": "code",
      "metadata": {
        "id": "fE4gapaPf5wW",
        "colab_type": "code",
        "outputId": "826eb418-40e2-49c3-dea1-985eeed2c48a",
        "colab": {
          "base_uri": "https://localhost:8080/",
          "height": 169
        }
      },
      "source": [
        "from google.colab import drive\n",
        "drive.mount('/content/drive')"
      ],
      "execution_count": 0,
      "outputs": [
        {
          "output_type": "stream",
          "text": [
            "Go to this URL in a browser: https://accounts.google.com/o/oauth2/auth?client_id=947318989803-6bn6qk8qdgf4n4g3pfee6491hc0brc4i.apps.googleusercontent.com&redirect_uri=urn%3aietf%3awg%3aoauth%3a2.0%3aoob&response_type=code&scope=email%20https%3a%2f%2fwww.googleapis.com%2fauth%2fdocs.test%20https%3a%2f%2fwww.googleapis.com%2fauth%2fdrive%20https%3a%2f%2fwww.googleapis.com%2fauth%2fdrive.photos.readonly%20https%3a%2f%2fwww.googleapis.com%2fauth%2fpeopleapi.readonly\n",
            "\n",
            "Enter your authorization code:\n",
            "··········\n",
            "Mounted at /content/drive\n"
          ],
          "name": "stdout"
        }
      ]
    },
    {
      "cell_type": "code",
      "metadata": {
        "id": "s7ONtMZUgBqe",
        "colab_type": "code",
        "colab": {}
      },
      "source": [
        "data = 'drive/My Drive/Colab Notebooks/cleaned.alexadata.csv'"
      ],
      "execution_count": 0,
      "outputs": []
    },
    {
      "cell_type": "code",
      "metadata": {
        "id": "eK2c8v0egyfS",
        "colab_type": "code",
        "outputId": "57672e97-03be-44c9-91ae-93cc87d3f8cc",
        "colab": {
          "base_uri": "https://localhost:8080/",
          "height": 669
        }
      },
      "source": [
        "amazondata = pd.read_csv(data, header=None)\n",
        "amazondata.head(20)"
      ],
      "execution_count": 0,
      "outputs": [
        {
          "output_type": "execute_result",
          "data": {
            "text/html": [
              "<div>\n",
              "<style scoped>\n",
              "    .dataframe tbody tr th:only-of-type {\n",
              "        vertical-align: middle;\n",
              "    }\n",
              "\n",
              "    .dataframe tbody tr th {\n",
              "        vertical-align: top;\n",
              "    }\n",
              "\n",
              "    .dataframe thead th {\n",
              "        text-align: right;\n",
              "    }\n",
              "</style>\n",
              "<table border=\"1\" class=\"dataframe\">\n",
              "  <thead>\n",
              "    <tr style=\"text-align: right;\">\n",
              "      <th></th>\n",
              "      <th>0</th>\n",
              "    </tr>\n",
              "  </thead>\n",
              "  <tbody>\n",
              "    <tr>\n",
              "      <th>0</th>\n",
              "      <td>alexa resume spotify</td>\n",
              "    </tr>\n",
              "    <tr>\n",
              "      <th>1</th>\n",
              "      <td>alexa set the temperature to sixty eight</td>\n",
              "    </tr>\n",
              "    <tr>\n",
              "      <th>2</th>\n",
              "      <td>resume spotify</td>\n",
              "    </tr>\n",
              "    <tr>\n",
              "      <th>3</th>\n",
              "      <td>alexa</td>\n",
              "    </tr>\n",
              "    <tr>\n",
              "      <th>4</th>\n",
              "      <td>alexa track southwest flight thirteen fifty six</td>\n",
              "    </tr>\n",
              "    <tr>\n",
              "      <th>5</th>\n",
              "      <td>alexa show me my calendar</td>\n",
              "    </tr>\n",
              "    <tr>\n",
              "      <th>6</th>\n",
              "      <td>alexa show me songs by the black keys</td>\n",
              "    </tr>\n",
              "    <tr>\n",
              "      <th>7</th>\n",
              "      <td>alexa play lohi by the black keys</td>\n",
              "    </tr>\n",
              "    <tr>\n",
              "      <th>8</th>\n",
              "      <td>alexa volume down</td>\n",
              "    </tr>\n",
              "    <tr>\n",
              "      <th>9</th>\n",
              "      <td>alexa play i still feel like your man</td>\n",
              "    </tr>\n",
              "    <tr>\n",
              "      <th>10</th>\n",
              "      <td>alexa what's the score of the penguins game</td>\n",
              "    </tr>\n",
              "    <tr>\n",
              "      <th>11</th>\n",
              "      <td>alexa remind me tomorrow at nine thirty a.m. t...</td>\n",
              "    </tr>\n",
              "    <tr>\n",
              "      <th>12</th>\n",
              "      <td>delete reminder one</td>\n",
              "    </tr>\n",
              "    <tr>\n",
              "      <th>13</th>\n",
              "      <td>alexa</td>\n",
              "    </tr>\n",
              "    <tr>\n",
              "      <th>14</th>\n",
              "      <td>alexa remind me in borrow at nine thirty to ta...</td>\n",
              "    </tr>\n",
              "    <tr>\n",
              "      <th>15</th>\n",
              "      <td>alexa play la bamba</td>\n",
              "    </tr>\n",
              "    <tr>\n",
              "      <th>16</th>\n",
              "      <td>alexa pause</td>\n",
              "    </tr>\n",
              "    <tr>\n",
              "      <th>17</th>\n",
              "      <td>alexa play daniel tiger's neighborhood soundtrack</td>\n",
              "    </tr>\n",
              "    <tr>\n",
              "      <th>18</th>\n",
              "      <td>no</td>\n",
              "    </tr>\n",
              "    <tr>\n",
              "      <th>19</th>\n",
              "      <td>alexa video call mom</td>\n",
              "    </tr>\n",
              "  </tbody>\n",
              "</table>\n",
              "</div>"
            ],
            "text/plain": [
              "                                                    0\n",
              "0                                alexa resume spotify\n",
              "1            alexa set the temperature to sixty eight\n",
              "2                                      resume spotify\n",
              "3                                               alexa\n",
              "4     alexa track southwest flight thirteen fifty six\n",
              "5                           alexa show me my calendar\n",
              "6               alexa show me songs by the black keys\n",
              "7                   alexa play lohi by the black keys\n",
              "8                                   alexa volume down\n",
              "9               alexa play i still feel like your man\n",
              "10        alexa what's the score of the penguins game\n",
              "11  alexa remind me tomorrow at nine thirty a.m. t...\n",
              "12                                delete reminder one\n",
              "13                                              alexa\n",
              "14  alexa remind me in borrow at nine thirty to ta...\n",
              "15                                alexa play la bamba\n",
              "16                                        alexa pause\n",
              "17  alexa play daniel tiger's neighborhood soundtrack\n",
              "18                                                 no\n",
              "19                               alexa video call mom"
            ]
          },
          "metadata": {
            "tags": []
          },
          "execution_count": 45
        }
      ]
    },
    {
      "cell_type": "code",
      "metadata": {
        "id": "MZhGl3g0hqXm",
        "colab_type": "code",
        "colab": {}
      },
      "source": [
        "verbs=[]\n",
        "i=0\n",
        "for i in range(len(amazondata)):\n",
        "  sentence = sp(amazondata.iloc[i,0])\n",
        "  for word in sentence:\n",
        "    if word.pos_ == 'VERB':\n",
        "      verbs.append(word.text)"
      ],
      "execution_count": 0,
      "outputs": []
    },
    {
      "cell_type": "code",
      "metadata": {
        "id": "64HgaJQ3jI1i",
        "colab_type": "code",
        "colab": {}
      },
      "source": [
        "allverbs ={}\n",
        "i = 0\n",
        "for i in range(len(verbs)):\n",
        "  averb = verbs[i]\n",
        "  if averb in allverbs:\n",
        "    allverbs[averb] += 1\n",
        "  if averb not in allverbs:\n",
        "    allverbs[averb] = 1"
      ],
      "execution_count": 0,
      "outputs": []
    },
    {
      "cell_type": "code",
      "metadata": {
        "id": "_8BzlKZEpkk9",
        "colab_type": "code",
        "outputId": "8f8d2382-405e-47ca-9d9f-9fe3ac9ef1e5",
        "colab": {
          "base_uri": "https://localhost:8080/",
          "height": 34
        }
      },
      "source": [
        "sortedlist = []\n",
        "for averb in allverbs:\n",
        "  sortedlist.append((allverbs[averb],averb))\n",
        "\n",
        "sortedlist = sorted(sortedlist, reverse = True)\n",
        "print(sortedlist[0:5])"
      ],
      "execution_count": 0,
      "outputs": [
        {
          "output_type": "stream",
          "text": [
            "[(3440, 'play'), (651, 'show'), (481, 'set'), (392, 'volume'), (222, 'timer')]\n"
          ],
          "name": "stdout"
        }
      ]
    },
    {
      "cell_type": "code",
      "metadata": {
        "id": "P4utfxqXsT0K",
        "colab_type": "code",
        "outputId": "36c39990-3713-46c3-fa05-c4d57bceb416",
        "colab": {
          "base_uri": "https://localhost:8080/",
          "height": 1000
        }
      },
      "source": [
        "sortedlist"
      ],
      "execution_count": 0,
      "outputs": [
        {
          "output_type": "execute_result",
          "data": {
            "text/plain": [
              "[(3440, 'play'),\n",
              " (651, 'show'),\n",
              " (481, 'set'),\n",
              " (392, 'volume'),\n",
              " (222, 'timer'),\n",
              " (102, 'turn'),\n",
              " (82, 'stop'),\n",
              " (75, 'alexa'),\n",
              " (69, 'tell'),\n",
              " (56, 'remind'),\n",
              " (51, 'call'),\n",
              " (48, 'go'),\n",
              " (47, 'start'),\n",
              " (44, 'grazing'),\n",
              " (43, 'winding'),\n",
              " (42, 'runs'),\n",
              " (41, 'featuring'),\n",
              " (40, 'sleeping'),\n",
              " (36, 'will'),\n",
              " (36, 'spotify'),\n",
              " (36, 'hang'),\n",
              " (29, 'can'),\n",
              " (28, 'add'),\n",
              " (24, 'watch'),\n",
              " (24, 'let'),\n",
              " (23, 'want'),\n",
              " (21, 'take'),\n",
              " (21, 'love'),\n",
              " (19, 'know'),\n",
              " (18, 'thank'),\n",
              " (17, 'look'),\n",
              " (16, 'shut'),\n",
              " (16, 'say'),\n",
              " (16, 'heard'),\n",
              " (16, 'crack'),\n",
              " (16, 'come'),\n",
              " (16, 'cancel'),\n",
              " (16, 'ai'),\n",
              " (16, \"'ll\"),\n",
              " (15, 'live'),\n",
              " (15, 'born'),\n",
              " (14, 'traveling'),\n",
              " (13, 'put'),\n",
              " (13, 'feel'),\n",
              " (13, 'como'),\n",
              " (12, 'track'),\n",
              " (12, 'seen'),\n",
              " (12, 'reorder'),\n",
              " (11, 'bring'),\n",
              " (10, 'resume'),\n",
              " (10, 'feeling'),\n",
              " (10, 'change'),\n",
              " (10, 'buy'),\n",
              " (9, 'playing'),\n",
              " (9, 'got'),\n",
              " (9, 'give'),\n",
              " (9, \"'d\"),\n",
              " (8, 'try'),\n",
              " (8, 'think'),\n",
              " (8, 'move'),\n",
              " (8, 'mean'),\n",
              " (8, 'make'),\n",
              " (8, 'left'),\n",
              " (8, 'gon'),\n",
              " (8, 'divided'),\n",
              " (7, 'walking'),\n",
              " (7, 'loving'),\n",
              " (7, 'listen'),\n",
              " (7, 'going'),\n",
              " (7, 'flaming'),\n",
              " (7, 'discover'),\n",
              " (7, 'die'),\n",
              " (7, 'check'),\n",
              " (6, 'would'),\n",
              " (6, 'talking'),\n",
              " (6, 'stay'),\n",
              " (6, 'skip'),\n",
              " (6, 'sing'),\n",
              " (6, 'read'),\n",
              " (6, 'order'),\n",
              " (6, 'moved'),\n",
              " (6, 'living'),\n",
              " (6, 'get'),\n",
              " (6, 'dance'),\n",
              " (6, 'comes'),\n",
              " (6, 'brainwashed'),\n",
              " (6, 'believe'),\n",
              " (5, 'thumbs'),\n",
              " (5, 'sixty'),\n",
              " (5, 'shine'),\n",
              " (5, 'ride'),\n",
              " (5, 'raised'),\n",
              " (5, 'overemphasizing'),\n",
              " (5, 'moving'),\n",
              " (5, 'like'),\n",
              " (5, 'led'),\n",
              " (5, 'foster'),\n",
              " (5, 'find'),\n",
              " (5, 'drop'),\n",
              " (5, 'drive'),\n",
              " (5, 'dancing'),\n",
              " (5, 'busted'),\n",
              " (5, 'beg'),\n",
              " (4, 'win'),\n",
              " (4, 'weeps'),\n",
              " (4, 'walk'),\n",
              " (4, 'used'),\n",
              " (4, 'talk'),\n",
              " (4, 'see'),\n",
              " (4, 'said'),\n",
              " (4, 'redding'),\n",
              " (4, 'raining'),\n",
              " (4, 'pause'),\n",
              " (4, 'need'),\n",
              " (4, 'lost'),\n",
              " (4, 'hurt'),\n",
              " (4, 'guess'),\n",
              " (4, 'fried'),\n",
              " (4, 'episode'),\n",
              " (4, 'eat'),\n",
              " (4, 'delete'),\n",
              " (4, 'connect'),\n",
              " (4, 'clean'),\n",
              " (4, 'ca'),\n",
              " (4, 'breaking'),\n",
              " (4, 'arriving'),\n",
              " (3, 'wrote'),\n",
              " (3, 'weigh'),\n",
              " (3, 'waiting'),\n",
              " (3, 'use'),\n",
              " (3, 'told'),\n",
              " (3, 'tighten'),\n",
              " (3, 'tearin'),\n",
              " (3, 'taken'),\n",
              " (3, 'snow'),\n",
              " (3, 'singing'),\n",
              " (3, 'shake'),\n",
              " (3, 'send'),\n",
              " (3, 'scroll'),\n",
              " (3, 'says'),\n",
              " (3, 'rising'),\n",
              " (3, 'quit'),\n",
              " (3, 'perkins'),\n",
              " (3, 'open'),\n",
              " (3, 'must'),\n",
              " (3, 'makes'),\n",
              " (3, 'lift'),\n",
              " (3, 'knows'),\n",
              " (3, 'known'),\n",
              " (3, 'install'),\n",
              " (3, 'holding'),\n",
              " (3, 'getting'),\n",
              " (3, 'follow'),\n",
              " (3, 'feed'),\n",
              " (3, 'driving'),\n",
              " (3, 'dismiss'),\n",
              " (3, 'cool'),\n",
              " (3, 'continue'),\n",
              " (3, 'coming'),\n",
              " (3, 'break'),\n",
              " (3, 'bouncing'),\n",
              " (3, 'arrested'),\n",
              " (2, 'works'),\n",
              " (2, 'wake'),\n",
              " (2, 'tune'),\n",
              " (2, 'tidy'),\n",
              " (2, 'talked'),\n",
              " (2, 'supposed'),\n",
              " (2, 'stuck'),\n",
              " (2, 'stream'),\n",
              " (2, 'standing'),\n",
              " (2, 'sling'),\n",
              " (2, 'signed'),\n",
              " (2, 'should'),\n",
              " (2, 'shot'),\n",
              " (2, 'shall'),\n",
              " (2, 'sell'),\n",
              " (2, 'saying'),\n",
              " (2, 'salt'),\n",
              " (2, 'rewind'),\n",
              " (2, 'reefer'),\n",
              " (2, 'rain'),\n",
              " (2, 'puff'),\n",
              " (2, 'pass'),\n",
              " (2, 'may'),\n",
              " (2, 'matching'),\n",
              " (2, 'married'),\n",
              " (2, 'lonesome'),\n",
              " (2, 'located'),\n",
              " (2, 'learning'),\n",
              " (2, 'last'),\n",
              " (2, 'kiss'),\n",
              " (2, 'helps'),\n",
              " (2, 'help'),\n",
              " (2, 'heat'),\n",
              " (2, 'forecast'),\n",
              " (2, 'flying'),\n",
              " (2, 'fly'),\n",
              " (2, 'falling'),\n",
              " (2, 'escape'),\n",
              " (2, 'episodes'),\n",
              " (2, 'end'),\n",
              " (2, 'email'),\n",
              " (2, 'dying'),\n",
              " (2, 'doubting'),\n",
              " (2, 'dora'),\n",
              " (2, 'doing'),\n",
              " (2, 'delivered'),\n",
              " (2, 'could'),\n",
              " (2, 'bound'),\n",
              " (2, 'begin'),\n",
              " (2, 'begging'),\n",
              " (2, 'answer'),\n",
              " (2, 'announce'),\n",
              " (1, 'worried'),\n",
              " (1, 'won'),\n",
              " (1, 'water'),\n",
              " (1, 'watching'),\n",
              " (1, 'wait'),\n",
              " (1, 'understand'),\n",
              " (1, 'tumbled'),\n",
              " (1, 'trending'),\n",
              " (1, 'took'),\n",
              " (1, 'tie'),\n",
              " (1, 'tidying'),\n",
              " (1, 'thinks'),\n",
              " (1, 'sucks'),\n",
              " (1, 'suck'),\n",
              " (1, 'subwoofer'),\n",
              " (1, 'stopped'),\n",
              " (1, 'stitched'),\n",
              " (1, 'stinky'),\n",
              " (1, 'steph'),\n",
              " (1, 'starts'),\n",
              " (1, 'started'),\n",
              " (1, 'spying'),\n",
              " (1, 'spy'),\n",
              " (1, 'spoke'),\n",
              " (1, 'soundtrack'),\n",
              " (1, 'sounds'),\n",
              " (1, 'sings'),\n",
              " (1, 'sided'),\n",
              " (1, 'sibling'),\n",
              " (1, 'sealed'),\n",
              " (1, 'save'),\n",
              " (1, 'run'),\n",
              " (1, 'rose'),\n",
              " (1, 'roll'),\n",
              " (1, 'rock'),\n",
              " (1, 'roadside'),\n",
              " (1, 'rises'),\n",
              " (1, 'ring'),\n",
              " (1, 'rhyme'),\n",
              " (1, 'results'),\n",
              " (1, 'reset'),\n",
              " (1, 'repeat'),\n",
              " (1, 'remove'),\n",
              " (1, 'remember'),\n",
              " (1, 'relax'),\n",
              " (1, 'refill'),\n",
              " (1, 'record'),\n",
              " (1, 'pronounces'),\n",
              " (1, 'promoted'),\n",
              " (1, 'print'),\n",
              " (1, 'preferences'),\n",
              " (1, 'pour'),\n",
              " (1, 'popped'),\n",
              " (1, 'pooping'),\n",
              " (1, 'plugs'),\n",
              " (1, 'plays'),\n",
              " (1, 'picking'),\n",
              " (1, 'pick'),\n",
              " (1, 'peek'),\n",
              " (1, 'packing'),\n",
              " (1, 'overemphasized'),\n",
              " (1, 'nero'),\n",
              " (1, 'named'),\n",
              " (1, 'moves'),\n",
              " (1, 'misses'),\n",
              " (1, 'missed'),\n",
              " (1, 'mind'),\n",
              " (1, 'measure'),\n",
              " (1, 'match'),\n",
              " (1, 'masked'),\n",
              " (1, 'marrow'),\n",
              " (1, 'making'),\n",
              " (1, 'made'),\n",
              " (1, 'lower'),\n",
              " (1, 'loves'),\n",
              " (1, 'looks'),\n",
              " (1, 'locked'),\n",
              " (1, 'lights'),\n",
              " (1, 'light'),\n",
              " (1, 'lies'),\n",
              " (1, 'legged'),\n",
              " (1, 'leave'),\n",
              " (1, 'launch'),\n",
              " (1, 'lagging'),\n",
              " (1, 'knew'),\n",
              " (1, 'kept'),\n",
              " (1, 'invented'),\n",
              " (1, 'hurts'),\n",
              " (1, 'hope'),\n",
              " (1, 'hold'),\n",
              " (1, 'hear'),\n",
              " (1, 'heading'),\n",
              " (1, 'happens'),\n",
              " (1, 'hanging'),\n",
              " (1, 'grow'),\n",
              " (1, 'grapevine'),\n",
              " (1, 'goes'),\n",
              " (1, 'girl'),\n",
              " (1, 'george'),\n",
              " (1, 'gain'),\n",
              " (1, 'frozen'),\n",
              " (1, 'freezes'),\n",
              " (1, 'found'),\n",
              " (1, 'fix'),\n",
              " (1, 'finish'),\n",
              " (1, 'finger'),\n",
              " (1, 'file'),\n",
              " (1, 'feels'),\n",
              " (1, 'fall'),\n",
              " (1, 'exist'),\n",
              " (1, 'entertain'),\n",
              " (1, 'enneagram'),\n",
              " (1, 'enjoy'),\n",
              " (1, 'emphasizing'),\n",
              " (1, 'eaten'),\n",
              " (1, 'drove'),\n",
              " (1, 'drinking'),\n",
              " (1, 'dreamt'),\n",
              " (1, 'download'),\n",
              " (1, 'done'),\n",
              " (1, 'dishwashing'),\n",
              " (1, 'dishwash'),\n",
              " (1, 'dig'),\n",
              " (1, 'della'),\n",
              " (1, 'dawes'),\n",
              " (1, 'dashing'),\n",
              " (1, 'darling'),\n",
              " (1, 'cut'),\n",
              " (1, 'cry'),\n",
              " (1, 'crumbling'),\n",
              " (1, 'cloud'),\n",
              " (1, 'clear'),\n",
              " (1, 'charlotte'),\n",
              " (1, 'changed'),\n",
              " (1, 'captured'),\n",
              " (1, 'capsized'),\n",
              " (1, 'calling'),\n",
              " (1, 'burning'),\n",
              " (1, 'building'),\n",
              " (1, 'brush'),\n",
              " (1, 'blown'),\n",
              " (1, 'believing'),\n",
              " (1, 'beggars'),\n",
              " (1, 'backsliding'),\n",
              " (1, 'ated'),\n",
              " (1, 'ask'),\n",
              " (1, 'arrive'),\n",
              " (1, 'angie'),\n",
              " (1, 'alright'),\n",
              " (1, 'album')]"
            ]
          },
          "metadata": {
            "tags": []
          },
          "execution_count": 113
        }
      ]
    },
    {
      "cell_type": "markdown",
      "metadata": {
        "id": "ExN7Vwtyhqpm",
        "colab_type": "text"
      },
      "source": [
        "1.The top 5 action words are play, show, set, volume, and timer. Consumers frequently ask Amazon Echo Show to play a song or video, show pictures or websites, and set a timer or the volume of the Echo Show.  "
      ]
    },
    {
      "cell_type": "code",
      "metadata": {
        "id": "P4dbYyI6mCiZ",
        "colab_type": "code",
        "colab": {}
      },
      "source": [
        "entities = []\n",
        "i=0\n",
        "for i in range(len(amazondata)):\n",
        "  sentence = sp(amazondata.iloc[i,0])\n",
        "  for entity in sentence.ents:\n",
        "      entities.append(entity.label_)"
      ],
      "execution_count": 0,
      "outputs": []
    },
    {
      "cell_type": "code",
      "metadata": {
        "id": "MCFqLtEAuVn4",
        "colab_type": "code",
        "colab": {}
      },
      "source": [
        "allentities ={}\n",
        "i = 0\n",
        "for i in range(len(entities)):\n",
        "  anentity = entities[i]\n",
        "  if anentity in allentities:\n",
        "    allentities[anentity] += 1\n",
        "  if anentity not in allentities:\n",
        "    allentities[anentity] = 1"
      ],
      "execution_count": 0,
      "outputs": []
    },
    {
      "cell_type": "code",
      "metadata": {
        "id": "WEPL3dpkv7hi",
        "colab_type": "code",
        "outputId": "deef60f1-ccb9-4ea5-9b82-0f2c9e1a58e9",
        "colab": {
          "base_uri": "https://localhost:8080/",
          "height": 34
        }
      },
      "source": [
        "sortedlist2 = []\n",
        "for anentity in allentities:\n",
        "  sortedlist2.append((allentities[anentity],anentity))\n",
        "\n",
        "sortedlist2 = sorted(sortedlist, reverse = True)\n",
        "print(sortedlist2[0:5])"
      ],
      "execution_count": 0,
      "outputs": [
        {
          "output_type": "stream",
          "text": [
            "[(1300, 'ORG'), (1177, 'PERSON'), (684, 'CARDINAL'), (494, 'TIME'), (416, 'DATE')]\n"
          ],
          "name": "stdout"
        }
      ]
    },
    {
      "cell_type": "code",
      "metadata": {
        "id": "1hyqrJExwNad",
        "colab_type": "code",
        "outputId": "a2b82f53-aadf-4539-c294-410fc3658c4f",
        "colab": {
          "base_uri": "https://localhost:8080/",
          "height": 306
        }
      },
      "source": [
        "sortedlist2"
      ],
      "execution_count": 0,
      "outputs": [
        {
          "output_type": "execute_result",
          "data": {
            "text/plain": [
              "[(1300, 'ORG'),\n",
              " (1177, 'PERSON'),\n",
              " (684, 'CARDINAL'),\n",
              " (494, 'TIME'),\n",
              " (416, 'DATE'),\n",
              " (137, 'GPE'),\n",
              " (42, 'NORP'),\n",
              " (40, 'QUANTITY'),\n",
              " (23, 'ORDINAL'),\n",
              " (19, 'LOC'),\n",
              " (9, 'FAC'),\n",
              " (7, 'LANGUAGE'),\n",
              " (4, 'EVENT'),\n",
              " (2, 'WORK_OF_ART'),\n",
              " (2, 'PERCENT'),\n",
              " (2, 'LAW'),\n",
              " (1, 'MONEY')]"
            ]
          },
          "metadata": {
            "tags": []
          },
          "execution_count": 127
        }
      ]
    },
    {
      "cell_type": "markdown",
      "metadata": {
        "id": "Hwz4hDyDwPYw",
        "colab_type": "text"
      },
      "source": [
        "2. People tend to ask about organizations, people, times, and dates. The top 5 entity labels are ORG, PERSON, CARDINAL, TIME, and DATE."
      ]
    },
    {
      "cell_type": "markdown",
      "metadata": {
        "id": "koZIm4moxVJY",
        "colab_type": "text"
      },
      "source": [
        "3. Amazon should consider promoting story categories on interesting businesses near people, famous people that people have played in a song or show before, and information about the current day."
      ]
    }
  ]
}