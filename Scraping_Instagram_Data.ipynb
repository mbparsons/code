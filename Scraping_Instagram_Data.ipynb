{
  "nbformat": 4,
  "nbformat_minor": 0,
  "metadata": {
    "colab": {
      "name": "HW4 - Scraping Instagram Data",
      "provenance": [],
      "collapsed_sections": [],
      "authorship_tag": "ABX9TyPCgF8t8m4hmsTFu1iOUV11",
      "include_colab_link": true
    },
    "kernelspec": {
      "name": "python3",
      "display_name": "Python 3"
    }
  },
  "cells": [
    {
      "cell_type": "markdown",
      "metadata": {
        "id": "view-in-github",
        "colab_type": "text"
      },
      "source": [
        "<a href=\"https://colab.research.google.com/github/mbparsons/code/blob/master/Scraping_Instagram_Data.ipynb\" target=\"_parent\"><img src=\"https://colab.research.google.com/assets/colab-badge.svg\" alt=\"Open In Colab\"/></a>"
      ]
    },
    {
      "cell_type": "markdown",
      "metadata": {
        "id": "mzjgEJ527kke",
        "colab_type": "text"
      },
      "source": [
        "# Importing Data"
      ]
    },
    {
      "cell_type": "code",
      "metadata": {
        "id": "AdkINUHaWHH3",
        "colab_type": "code",
        "outputId": "3e985344-bf48-490a-b7d4-1d64b44d3ef6",
        "colab": {
          "base_uri": "https://localhost:8080/",
          "height": 301
        }
      },
      "source": [
        "!pip install instagram-scraper "
      ],
      "execution_count": 0,
      "outputs": [
        {
          "output_type": "stream",
          "text": [
            "Collecting instagram-scraper\n",
            "  Downloading https://files.pythonhosted.org/packages/41/e5/caa22efd3905de149a03300509e5f102a327b7cad1cc41d2dff88df44087/instagram-scraper-1.8.1.tar.gz\n",
            "Requirement already satisfied: requests>=2.18.4 in /usr/local/lib/python3.6/dist-packages (from instagram-scraper) (2.21.0)\n",
            "Requirement already satisfied: tqdm>=3.8.0 in /usr/local/lib/python3.6/dist-packages (from instagram-scraper) (4.28.1)\n",
            "Requirement already satisfied: certifi>=2017.4.17 in /usr/local/lib/python3.6/dist-packages (from requests>=2.18.4->instagram-scraper) (2019.11.28)\n",
            "Requirement already satisfied: idna<2.9,>=2.5 in /usr/local/lib/python3.6/dist-packages (from requests>=2.18.4->instagram-scraper) (2.8)\n",
            "Requirement already satisfied: urllib3<1.25,>=1.21.1 in /usr/local/lib/python3.6/dist-packages (from requests>=2.18.4->instagram-scraper) (1.24.3)\n",
            "Requirement already satisfied: chardet<3.1.0,>=3.0.2 in /usr/local/lib/python3.6/dist-packages (from requests>=2.18.4->instagram-scraper) (3.0.4)\n",
            "Building wheels for collected packages: instagram-scraper\n",
            "  Building wheel for instagram-scraper (setup.py) ... \u001b[?25l\u001b[?25hdone\n",
            "  Created wheel for instagram-scraper: filename=instagram_scraper-1.8.1-cp36-none-any.whl size=34275 sha256=a60abd64d174514227bb66ec66253afd08ec957443a0e7f22ae57e38e2418b61\n",
            "  Stored in directory: /root/.cache/pip/wheels/b6/53/4e/67f0a88142d60eac158eb38df3c7a159cc37358d638913a183\n",
            "Successfully built instagram-scraper\n",
            "Installing collected packages: instagram-scraper\n",
            "Successfully installed instagram-scraper-1.8.1\n"
          ],
          "name": "stdout"
        }
      ]
    },
    {
      "cell_type": "code",
      "metadata": {
        "id": "jnh4aa9zZIAx",
        "colab_type": "code",
        "colab": {}
      },
      "source": [
        "from instagram_scraper import InstagramScraper"
      ],
      "execution_count": 0,
      "outputs": []
    },
    {
      "cell_type": "code",
      "metadata": {
        "id": "Isd1NB1RY0U-",
        "colab_type": "code",
        "colab": {}
      },
      "source": [
        "from google.colab import drive\n",
        "drive.mount('/content/drive')"
      ],
      "execution_count": 0,
      "outputs": []
    },
    {
      "cell_type": "code",
      "metadata": {
        "id": "D2_LsIsTWXtA",
        "colab_type": "code",
        "colab": {}
      },
      "source": [
        "!instagram-scraper ford --media-metadata -m 200 -d 'drive/My Drive/Colab Notebooks/Instagram/'"
      ],
      "execution_count": 0,
      "outputs": []
    },
    {
      "cell_type": "code",
      "metadata": {
        "id": "k-uFYxWDZ0Ba",
        "colab_type": "code",
        "colab": {}
      },
      "source": [
        "!instagram-scraper volvocars --media-metadata -m 200 -d 'drive/My Drive/Colab Notebooks/Instagram/'"
      ],
      "execution_count": 0,
      "outputs": []
    },
    {
      "cell_type": "code",
      "metadata": {
        "id": "3P22r_QxaE5e",
        "colab_type": "code",
        "colab": {}
      },
      "source": [
        "!instagram-scraper dodgeofficial --media-metadata -m 200 -d 'drive/My Drive/Colab Notebooks/Instagram/'"
      ],
      "execution_count": 0,
      "outputs": []
    },
    {
      "cell_type": "code",
      "metadata": {
        "id": "nyNTD3bnaFA-",
        "colab_type": "code",
        "colab": {}
      },
      "source": [
        "!instagram-scraper chevrolet --media-metadata -m 200 -d 'drive/My Drive/Colab Notebooks/Instagram/'"
      ],
      "execution_count": 0,
      "outputs": []
    },
    {
      "cell_type": "code",
      "metadata": {
        "id": "aJ3XoB8NaFGO",
        "colab_type": "code",
        "colab": {}
      },
      "source": [
        "!instagram-scraper honda --media-metadata -m 200 -d 'drive/My Drive/Colab Notebooks/Instagram/'"
      ],
      "execution_count": 0,
      "outputs": []
    },
    {
      "cell_type": "code",
      "metadata": {
        "id": "DZBRsh2YwaAH",
        "colab_type": "code",
        "colab": {}
      },
      "source": [
        "!instagram-scraper ford --profile-metadata -d 'drive/My Drive/Colab Notebooks/Instagram/Profiles'"
      ],
      "execution_count": 0,
      "outputs": []
    },
    {
      "cell_type": "code",
      "metadata": {
        "id": "XNS0yNSr7RTt",
        "colab_type": "code",
        "colab": {}
      },
      "source": [
        "!instagram-scraper volvocars --profile-metadata -d 'drive/My Drive/Colab Notebooks/Instagram/Profiles'"
      ],
      "execution_count": 0,
      "outputs": []
    },
    {
      "cell_type": "code",
      "metadata": {
        "id": "rOlfgHSP7RZc",
        "colab_type": "code",
        "colab": {}
      },
      "source": [
        "!instagram-scraper dodgeofficial --profile-metadata -d 'drive/My Drive/Colab Notebooks/Instagram/Profiles'"
      ],
      "execution_count": 0,
      "outputs": []
    },
    {
      "cell_type": "code",
      "metadata": {
        "id": "9o1ItDJr7ReZ",
        "colab_type": "code",
        "colab": {}
      },
      "source": [
        "!instagram-scraper chevrolet --profile-metadata -d 'drive/My Drive/Colab Notebooks/Instagram/Profiles'"
      ],
      "execution_count": 0,
      "outputs": []
    },
    {
      "cell_type": "code",
      "metadata": {
        "id": "W3NlCfeA7RkK",
        "colab_type": "code",
        "colab": {}
      },
      "source": [
        "!instagram-scraper honda --profile-metadata -d 'drive/My Drive/Colab Notebooks/Instagram/Profiles'"
      ],
      "execution_count": 0,
      "outputs": []
    },
    {
      "cell_type": "code",
      "metadata": {
        "id": "zvdq50CgyPeb",
        "colab_type": "code",
        "colab": {}
      },
      "source": [
        "pathprofile1 = 'drive/My Drive/Colab Notebooks/Instagram/Profiles/ford.json'\n",
        "fordprofile = open(pathprofile1, 'r')\n",
        "fordprofile = open(pathprofile1, 'r')"
      ],
      "execution_count": 0,
      "outputs": []
    },
    {
      "cell_type": "code",
      "metadata": {
        "id": "mN5yIv4r8zj9",
        "colab_type": "code",
        "colab": {}
      },
      "source": [
        "pathprofile2 = 'drive/My Drive/Colab Notebooks/Instagram/Profiles/volvocars.json'\n",
        "volvoprofile = open(pathprofile2, 'r')\n",
        "parsedjsonvolvoprofile = json.load(volvoprofile)"
      ],
      "execution_count": 0,
      "outputs": []
    },
    {
      "cell_type": "code",
      "metadata": {
        "id": "pkNhaxSpyc51",
        "colab_type": "code",
        "colab": {}
      },
      "source": [
        "pathprofile3 = 'drive/My Drive/Colab Notebooks/Instagram/Profiles/dodgeofficial.json'\n",
        "dodgeprofile = open(pathprofile3, 'r')\n",
        "parsedjsondodgeprofile = json.load(dodgeprofile)"
      ],
      "execution_count": 0,
      "outputs": []
    },
    {
      "cell_type": "code",
      "metadata": {
        "id": "Q8_ZtXoPyVqm",
        "colab_type": "code",
        "colab": {}
      },
      "source": [
        "pathprofile4 = 'drive/My Drive/Colab Notebooks/Instagram/Profiles/chevrolet.json'\n",
        "chevroletprofile = open(pathprofile4, 'r')\n",
        "parsedjsonchevroletprofile = json.load(chevroletprofile)"
      ],
      "execution_count": 0,
      "outputs": []
    },
    {
      "cell_type": "code",
      "metadata": {
        "id": "tVoerpqC9Pc6",
        "colab_type": "code",
        "colab": {}
      },
      "source": [
        "pathprofile5 = 'drive/My Drive/Colab Notebooks/Instagram/Profiles/honda.json'\n",
        "hondaprofile = open(pathprofile5, 'r')\n",
        "parsedjsonhondaprofile = json.load(hondaprofile)"
      ],
      "execution_count": 0,
      "outputs": []
    },
    {
      "cell_type": "code",
      "metadata": {
        "id": "5qmqIGRYoZXw",
        "colab_type": "code",
        "colab": {}
      },
      "source": [
        "import glob\n",
        "import json\n",
        "import datetime\n",
        "import csv\n",
        "import pickle"
      ],
      "execution_count": 0,
      "outputs": []
    },
    {
      "cell_type": "code",
      "metadata": {
        "id": "8QIl67rbpziJ",
        "colab_type": "code",
        "colab": {}
      },
      "source": [
        "path1 = 'drive/My Drive/Colab Notebooks/Instagram/ford.json'\n",
        "fordjson = open(path1, 'r')\n",
        "parsedjsonford = json.load(fordjson)"
      ],
      "execution_count": 0,
      "outputs": []
    },
    {
      "cell_type": "code",
      "metadata": {
        "id": "JWzOtz0-_2jG",
        "colab_type": "code",
        "colab": {}
      },
      "source": [
        "path2 = 'drive/My Drive/Colab Notebooks/Instagram/volvocars.json'\n",
        "volvojson = open(path2, 'r')\n",
        "parsedjsonvolvo = json.load(volvojson)"
      ],
      "execution_count": 0,
      "outputs": []
    },
    {
      "cell_type": "code",
      "metadata": {
        "id": "SNP_DDFyALQ-",
        "colab_type": "code",
        "colab": {}
      },
      "source": [
        "path3 = 'drive/My Drive/Colab Notebooks/Instagram/dodgeofficial.json'\n",
        "dodgejson = open(path3, 'r')\n",
        "parsedjsondodge= json.load(dodgejson)"
      ],
      "execution_count": 0,
      "outputs": []
    },
    {
      "cell_type": "code",
      "metadata": {
        "id": "eJw_hk0hALWi",
        "colab_type": "code",
        "colab": {}
      },
      "source": [
        "path4 = 'drive/My Drive/Colab Notebooks/Instagram/chevrolet.json'\n",
        "chevroletjson = open(path4, 'r')\n",
        "parsedjsonchevrolet= json.load(chevroletjson)"
      ],
      "execution_count": 0,
      "outputs": []
    },
    {
      "cell_type": "code",
      "metadata": {
        "id": "ZMRE__eMALbf",
        "colab_type": "code",
        "colab": {}
      },
      "source": [
        "path5 = 'drive/My Drive/Colab Notebooks/Instagram/honda.json'\n",
        "hondajson = open(path5, 'r')\n",
        "parsedjsonhonda= json.load(hondajson)"
      ],
      "execution_count": 0,
      "outputs": []
    },
    {
      "cell_type": "code",
      "metadata": {
        "id": "34VTZU7Coupg",
        "colab_type": "code",
        "colab": {}
      },
      "source": [
        "jsonfiles = glob.glob('*/*.json')"
      ],
      "execution_count": 0,
      "outputs": []
    },
    {
      "cell_type": "code",
      "metadata": {
        "id": "G1AAh9dVokgh",
        "colab_type": "code",
        "colab": {}
      },
      "source": [
        "for afile in jsonfiles:\n",
        "    print(afile)\n",
        "    outputfile = open('drive/My Drive/Colab Notebooks/Instagram/ford.csv', 'w')\n",
        "     \n",
        "    csvwriter = csv.writer(outputfile)\n",
        "  \n",
        "    instagramposts = {}\n",
        "     \n",
        "    metadata = {}\n",
        "    metadata['is_video'] = \"Photo\"\n",
        "    metadata['display_url'] = \"\"\n",
        "    metadata['caption'] = \"\"\n",
        "    metadata['like count'] = \"\"\n",
        "    metadata['comment count'] = \"\"\n",
        "    metadata['tags'] = \"\"\n",
        "    metadata['time'] = \"\"\n",
        "    header = list(metadata.keys())\n",
        "    csvwriter.writerows([header])\n",
        "     \n",
        "    for apost in parsedjsonford['GraphImages']:    \n",
        " \n",
        "        metadata = {}\n",
        "        metadata['is_video'] = \"Photo\"\n",
        "        metadata['display_url'] = \"\"\n",
        "        metadata['caption'] = \"\"\n",
        "        metadata['like count'] = \"\"\n",
        "        metadata['comment count'] = \"\"\n",
        "        metadata['tags'] = \"\"\n",
        "        metadata['time'] = \"\"\n",
        "         \n",
        "        if 'edge_media_to_caption' in apost:\n",
        "            if 'edges' in apost['edge_media_to_caption']:\n",
        "                edges = apost['edge_media_to_caption']['edges']\n",
        "                if len(edges) > 0:\n",
        "    #                    print(\"woo\")\n",
        "                    metadata['caption'] = apost['edge_media_to_caption']['edges'][0]['node']['text']\n",
        "            if 'edge_media_preview_like' in apost:\n",
        "                if 'count' in apost['edge_media_preview_like']:\n",
        "                    metadata['like count'] = apost['edge_media_preview_like']['count']\n",
        "            if 'edge_media_to_comment' in apost:\n",
        "                if 'count' in apost['edge_media_to_comment']:\n",
        "                    metadata['comment count'] = apost['edge_media_to_comment']['count']\n",
        "            if 'tags' in apost:\n",
        "                metadata['tags'] = apost['tags']\n",
        "                     \n",
        "            metadata['time'] = datetime.datetime.fromtimestamp(int(apost['taken_at_timestamp'])).strftime('%Y-%m-%d %H:%M')\n",
        "            metadata['display_url'] = apost['display_url']\n",
        "            if apost['is_video'] == True:\n",
        "                metadata['is_video'] = \"Video\"\n",
        "      \n",
        "            row = []\n",
        "            for anitem in metadata:\n",
        "                row.append(metadata[anitem])\n",
        "            csvwriter.writerow(row)\n",
        "             \n",
        "    outputfile.close()"
      ],
      "execution_count": 0,
      "outputs": []
    },
    {
      "cell_type": "code",
      "metadata": {
        "id": "fItEupOZBDrp",
        "colab_type": "code",
        "colab": {}
      },
      "source": [
        "for afile in jsonfiles:\n",
        "    print(afile)\n",
        "    outputfile = open('drive/My Drive/Colab Notebooks/Instagram/volvo.csv', 'w')\n",
        "     \n",
        "    csvwriter = csv.writer(outputfile)\n",
        "  \n",
        "    instagramposts = {}\n",
        "     \n",
        "    metadata = {}\n",
        "    metadata['is_video'] = \"Photo\"\n",
        "    metadata['display_url'] = \"\"\n",
        "    metadata['caption'] = \"\"\n",
        "    metadata['like count'] = \"\"\n",
        "    metadata['comment count'] = \"\"\n",
        "    metadata['tags'] = \"\"\n",
        "    metadata['time'] = \"\"\n",
        "    header = list(metadata.keys())\n",
        "    csvwriter.writerows([header])\n",
        "     \n",
        "    for apost in parsedjsonvolvo['GraphImages']:    \n",
        " \n",
        "        metadata = {}\n",
        "        metadata['is_video'] = \"Photo\"\n",
        "        metadata['display_url'] = \"\"\n",
        "        metadata['caption'] = \"\"\n",
        "        metadata['like count'] = \"\"\n",
        "        metadata['comment count'] = \"\"\n",
        "        metadata['tags'] = \"\"\n",
        "        metadata['time'] = \"\"\n",
        "         \n",
        "        if 'edge_media_to_caption' in apost:\n",
        "            if 'edges' in apost['edge_media_to_caption']:\n",
        "                edges = apost['edge_media_to_caption']['edges']\n",
        "                if len(edges) > 0:\n",
        "    #                    print(\"woo\")\n",
        "                    metadata['caption'] = apost['edge_media_to_caption']['edges'][0]['node']['text']\n",
        "            if 'edge_media_preview_like' in apost:\n",
        "                if 'count' in apost['edge_media_preview_like']:\n",
        "                    metadata['like count'] = apost['edge_media_preview_like']['count']\n",
        "            if 'edge_media_to_comment' in apost:\n",
        "                if 'count' in apost['edge_media_to_comment']:\n",
        "                    metadata['comment count'] = apost['edge_media_to_comment']['count']\n",
        "            if 'tags' in apost:\n",
        "                metadata['tags'] = apost['tags']\n",
        "                     \n",
        "            metadata['time'] = datetime.datetime.fromtimestamp(int(apost['taken_at_timestamp'])).strftime('%Y-%m-%d %H:%M')\n",
        "            metadata['display_url'] = apost['display_url']\n",
        "            if apost['is_video'] == True:\n",
        "                metadata['is_video'] = \"Video\"\n",
        "      \n",
        "            row = []\n",
        "            for anitem in metadata:\n",
        "                row.append(metadata[anitem])\n",
        "            csvwriter.writerow(row)\n",
        "             \n",
        "    outputfile.close()"
      ],
      "execution_count": 0,
      "outputs": []
    },
    {
      "cell_type": "code",
      "metadata": {
        "id": "-t_ACB3iBjoa",
        "colab_type": "code",
        "colab": {}
      },
      "source": [
        "for afile in jsonfiles:\n",
        "    print(afile)\n",
        "    outputfile = open('drive/My Drive/Colab Notebooks/Instagram/dodgeofficial.csv', 'w')\n",
        "     \n",
        "    csvwriter = csv.writer(outputfile)\n",
        "  \n",
        "    instagramposts = {}\n",
        "     \n",
        "    metadata = {}\n",
        "    metadata['is_video'] = \"Photo\"\n",
        "    metadata['display_url'] = \"\"\n",
        "    metadata['caption'] = \"\"\n",
        "    metadata['like count'] = \"\"\n",
        "    metadata['comment count'] = \"\"\n",
        "    metadata['tags'] = \"\"\n",
        "    metadata['time'] = \"\"\n",
        "    header = list(metadata.keys())\n",
        "    csvwriter.writerows([header])\n",
        "     \n",
        "    for apost in parsedjsondodge['GraphImages']:    \n",
        " \n",
        "        metadata = {}\n",
        "        metadata['is_video'] = \"Photo\"\n",
        "        metadata['display_url'] = \"\"\n",
        "        metadata['caption'] = \"\"\n",
        "        metadata['like count'] = \"\"\n",
        "        metadata['comment count'] = \"\"\n",
        "        metadata['tags'] = \"\"\n",
        "        metadata['time'] = \"\"\n",
        "         \n",
        "        if 'edge_media_to_caption' in apost:\n",
        "            if 'edges' in apost['edge_media_to_caption']:\n",
        "                edges = apost['edge_media_to_caption']['edges']\n",
        "                if len(edges) > 0:\n",
        "    #                    print(\"woo\")\n",
        "                    metadata['caption'] = apost['edge_media_to_caption']['edges'][0]['node']['text']\n",
        "            if 'edge_media_preview_like' in apost:\n",
        "                if 'count' in apost['edge_media_preview_like']:\n",
        "                    metadata['like count'] = apost['edge_media_preview_like']['count']\n",
        "            if 'edge_media_to_comment' in apost:\n",
        "                if 'count' in apost['edge_media_to_comment']:\n",
        "                    metadata['comment count'] = apost['edge_media_to_comment']['count']\n",
        "            if 'tags' in apost:\n",
        "                metadata['tags'] = apost['tags']\n",
        "                     \n",
        "            metadata['time'] = datetime.datetime.fromtimestamp(int(apost['taken_at_timestamp'])).strftime('%Y-%m-%d %H:%M')\n",
        "            metadata['display_url'] = apost['display_url']\n",
        "            if apost['is_video'] == True:\n",
        "                metadata['is_video'] = \"Video\"\n",
        "      \n",
        "            row = []\n",
        "            for anitem in metadata:\n",
        "                row.append(metadata[anitem])\n",
        "            csvwriter.writerow(row)\n",
        "             \n",
        "    outputfile.close()"
      ],
      "execution_count": 0,
      "outputs": []
    },
    {
      "cell_type": "code",
      "metadata": {
        "id": "smbyfTgcBkGo",
        "colab_type": "code",
        "colab": {}
      },
      "source": [
        "for afile in jsonfiles:\n",
        "    print(afile)\n",
        "    outputfile = open('drive/My Drive/Colab Notebooks/Instagram/chevrolet.csv', 'w')\n",
        "     \n",
        "    csvwriter = csv.writer(outputfile)\n",
        "  \n",
        "    instagramposts = {}\n",
        "     \n",
        "    metadata = {}\n",
        "    metadata['is_video'] = \"Photo\"\n",
        "    metadata['display_url'] = \"\"\n",
        "    metadata['caption'] = \"\"\n",
        "    metadata['like count'] = \"\"\n",
        "    metadata['comment count'] = \"\"\n",
        "    metadata['tags'] = \"\"\n",
        "    metadata['time'] = \"\"\n",
        "    header = list(metadata.keys())\n",
        "    csvwriter.writerows([header])\n",
        "     \n",
        "    for apost in parsedjsonchevrolet['GraphImages']:    \n",
        " \n",
        "        metadata = {}\n",
        "        metadata['is_video'] = \"Photo\"\n",
        "        metadata['display_url'] = \"\"\n",
        "        metadata['caption'] = \"\"\n",
        "        metadata['like count'] = \"\"\n",
        "        metadata['comment count'] = \"\"\n",
        "        metadata['tags'] = \"\"\n",
        "        metadata['time'] = \"\"\n",
        "         \n",
        "        if 'edge_media_to_caption' in apost:\n",
        "            if 'edges' in apost['edge_media_to_caption']:\n",
        "                edges = apost['edge_media_to_caption']['edges']\n",
        "                if len(edges) > 0:\n",
        "    #                    print(\"woo\")\n",
        "                    metadata['caption'] = apost['edge_media_to_caption']['edges'][0]['node']['text']\n",
        "            if 'edge_media_preview_like' in apost:\n",
        "                if 'count' in apost['edge_media_preview_like']:\n",
        "                    metadata['like count'] = apost['edge_media_preview_like']['count']\n",
        "            if 'edge_media_to_comment' in apost:\n",
        "                if 'count' in apost['edge_media_to_comment']:\n",
        "                    metadata['comment count'] = apost['edge_media_to_comment']['count']\n",
        "            if 'tags' in apost:\n",
        "                metadata['tags'] = apost['tags']\n",
        "                     \n",
        "            metadata['time'] = datetime.datetime.fromtimestamp(int(apost['taken_at_timestamp'])).strftime('%Y-%m-%d %H:%M')\n",
        "            metadata['display_url'] = apost['display_url']\n",
        "            if apost['is_video'] == True:\n",
        "                metadata['is_video'] = \"Video\"\n",
        "      \n",
        "            row = []\n",
        "            for anitem in metadata:\n",
        "                row.append(metadata[anitem])\n",
        "            csvwriter.writerow(row)\n",
        "             \n",
        "    outputfile.close()"
      ],
      "execution_count": 0,
      "outputs": []
    },
    {
      "cell_type": "code",
      "metadata": {
        "id": "ZxDK5AomBkRQ",
        "colab_type": "code",
        "colab": {}
      },
      "source": [
        "for afile in jsonfiles:\n",
        "    print(afile)\n",
        "    outputfile = open('drive/My Drive/Colab Notebooks/Instagram/honda.csv', 'w')\n",
        "     \n",
        "    csvwriter = csv.writer(outputfile)\n",
        "  \n",
        "    instagramposts = {}\n",
        "     \n",
        "    metadata = {}\n",
        "    metadata['is_video'] = \"Photo\"\n",
        "    metadata['display_url'] = \"\"\n",
        "    metadata['caption'] = \"\"\n",
        "    metadata['like count'] = \"\"\n",
        "    metadata['comment count'] = \"\"\n",
        "    metadata['tags'] = \"\"\n",
        "    metadata['time'] = \"\"\n",
        "    header = list(metadata.keys())\n",
        "    csvwriter.writerows([header])\n",
        "     \n",
        "    for apost in parsedjsonhonda['GraphImages']:    \n",
        " \n",
        "        metadata = {}\n",
        "        metadata['is_video'] = \"Photo\"\n",
        "        metadata['display_url'] = \"\"\n",
        "        metadata['caption'] = \"\"\n",
        "        metadata['like count'] = \"\"\n",
        "        metadata['comment count'] = \"\"\n",
        "        metadata['tags'] = \"\"\n",
        "        metadata['time'] = \"\"\n",
        "         \n",
        "        if 'edge_media_to_caption' in apost:\n",
        "            if 'edges' in apost['edge_media_to_caption']:\n",
        "                edges = apost['edge_media_to_caption']['edges']\n",
        "                if len(edges) > 0:\n",
        "    #                    print(\"woo\")\n",
        "                    metadata['caption'] = apost['edge_media_to_caption']['edges'][0]['node']['text']\n",
        "            if 'edge_media_preview_like' in apost:\n",
        "                if 'count' in apost['edge_media_preview_like']:\n",
        "                    metadata['like count'] = apost['edge_media_preview_like']['count']\n",
        "            if 'edge_media_to_comment' in apost:\n",
        "                if 'count' in apost['edge_media_to_comment']:\n",
        "                    metadata['comment count'] = apost['edge_media_to_comment']['count']\n",
        "            if 'tags' in apost:\n",
        "                metadata['tags'] = apost['tags']\n",
        "                     \n",
        "            metadata['time'] = datetime.datetime.fromtimestamp(int(apost['taken_at_timestamp'])).strftime('%Y-%m-%d %H:%M')\n",
        "            metadata['display_url'] = apost['display_url']\n",
        "            if apost['is_video'] == True:\n",
        "                metadata['is_video'] = \"Video\"\n",
        "      \n",
        "            row = []\n",
        "            for anitem in metadata:\n",
        "                row.append(metadata[anitem])\n",
        "            csvwriter.writerow(row)\n",
        "             \n",
        "    outputfile.close()"
      ],
      "execution_count": 0,
      "outputs": []
    },
    {
      "cell_type": "code",
      "metadata": {
        "id": "Z6F7GwPYtfKR",
        "colab_type": "code",
        "colab": {}
      },
      "source": [
        "import pandas as pd\n",
        "import numpy as np\n",
        "import seaborn as sns"
      ],
      "execution_count": 0,
      "outputs": []
    },
    {
      "cell_type": "code",
      "metadata": {
        "id": "CVkYUU1Qr1UD",
        "colab_type": "code",
        "colab": {}
      },
      "source": [
        "forddata = 'drive/My Drive/Colab Notebooks/Instagram/ford.csv'\n",
        "fordDF = pd.read_csv(forddata)"
      ],
      "execution_count": 0,
      "outputs": []
    },
    {
      "cell_type": "code",
      "metadata": {
        "id": "8Pxck6-XCz-I",
        "colab_type": "code",
        "colab": {}
      },
      "source": [
        "volvodata = 'drive/My Drive/Colab Notebooks/Instagram/volvo.csv'\n",
        "volvoDF = pd.read_csv(volvodata)"
      ],
      "execution_count": 0,
      "outputs": []
    },
    {
      "cell_type": "code",
      "metadata": {
        "id": "XFg4kTKQC0Eq",
        "colab_type": "code",
        "colab": {}
      },
      "source": [
        "dodgedata = 'drive/My Drive/Colab Notebooks/Instagram/dodgeofficial.csv'\n",
        "dodgeDF = pd.read_csv(dodgedata)"
      ],
      "execution_count": 0,
      "outputs": []
    },
    {
      "cell_type": "code",
      "metadata": {
        "id": "aAdvw6vvC0ON",
        "colab_type": "code",
        "colab": {}
      },
      "source": [
        "chevroletdata = 'drive/My Drive/Colab Notebooks/Instagram/chevrolet.csv'\n",
        "chevroletDF = pd.read_csv(forddata)"
      ],
      "execution_count": 0,
      "outputs": []
    },
    {
      "cell_type": "code",
      "metadata": {
        "id": "T-_yzQhIC0Yd",
        "colab_type": "code",
        "colab": {}
      },
      "source": [
        "hondadata = 'drive/My Drive/Colab Notebooks/Instagram/honda.csv'\n",
        "hondaDF = pd.read_csv(hondadata)"
      ],
      "execution_count": 0,
      "outputs": []
    },
    {
      "cell_type": "markdown",
      "metadata": {
        "id": "mkeTYk8W7w-u",
        "colab_type": "text"
      },
      "source": [
        "# Ford Calculations"
      ]
    },
    {
      "cell_type": "code",
      "metadata": {
        "id": "h2jyMg7JtiWO",
        "colab_type": "code",
        "outputId": "c1658acc-7037-40b1-f5f9-64657fe2b8dd",
        "colab": {
          "base_uri": "https://localhost:8080/",
          "height": 606
        }
      },
      "source": [
        "fordDF"
      ],
      "execution_count": 0,
      "outputs": [
        {
          "output_type": "execute_result",
          "data": {
            "text/html": [
              "<div>\n",
              "<style scoped>\n",
              "    .dataframe tbody tr th:only-of-type {\n",
              "        vertical-align: middle;\n",
              "    }\n",
              "\n",
              "    .dataframe tbody tr th {\n",
              "        vertical-align: top;\n",
              "    }\n",
              "\n",
              "    .dataframe thead th {\n",
              "        text-align: right;\n",
              "    }\n",
              "</style>\n",
              "<table border=\"1\" class=\"dataframe\">\n",
              "  <thead>\n",
              "    <tr style=\"text-align: right;\">\n",
              "      <th></th>\n",
              "      <th>is_video</th>\n",
              "      <th>display_url</th>\n",
              "      <th>caption</th>\n",
              "      <th>like count</th>\n",
              "      <th>comment count</th>\n",
              "      <th>tags</th>\n",
              "      <th>time</th>\n",
              "    </tr>\n",
              "  </thead>\n",
              "  <tbody>\n",
              "    <tr>\n",
              "      <th>0</th>\n",
              "      <td>Photo</td>\n",
              "      <td>https://instagram.flux1-1.fna.fbcdn.net/v/t51....</td>\n",
              "      <td>It’s a draw. They’re both our good side.\\n∙\\n#...</td>\n",
              "      <td>41381</td>\n",
              "      <td>253</td>\n",
              "      <td>['FordExplorer', 'Ford', 'SUV']</td>\n",
              "      <td>2020-02-13 17:31</td>\n",
              "    </tr>\n",
              "    <tr>\n",
              "      <th>1</th>\n",
              "      <td>Photo</td>\n",
              "      <td>https://instagram.flux1-1.fna.fbcdn.net/v/t51....</td>\n",
              "      <td>Vroooooooooooom.\\n.\\nProfessional driver. Clos...</td>\n",
              "      <td>100087</td>\n",
              "      <td>619</td>\n",
              "      <td>['ShelbyGT500', 'FordMustang', 'Ford', 'GT500T...</td>\n",
              "      <td>2020-02-07 17:00</td>\n",
              "    </tr>\n",
              "    <tr>\n",
              "      <th>2</th>\n",
              "      <td>Photo</td>\n",
              "      <td>https://instagram.flux1-1.fna.fbcdn.net/v/t51....</td>\n",
              "      <td>ⓛⓘⓠⓤⓘⓓ ⓒⓐⓡⓑⓞⓝ\\n∙\\nOn top of the newly availabl...</td>\n",
              "      <td>147384</td>\n",
              "      <td>1470</td>\n",
              "      <td>['FordPerformance', 'FordGT', 'Ford']</td>\n",
              "      <td>2020-02-06 16:54</td>\n",
              "    </tr>\n",
              "    <tr>\n",
              "      <th>3</th>\n",
              "      <td>Photo</td>\n",
              "      <td>https://instagram.flux1-1.fna.fbcdn.net/v/t51....</td>\n",
              "      <td>Anyone else dreaming of some ☀️right about now...</td>\n",
              "      <td>39989</td>\n",
              "      <td>278</td>\n",
              "      <td>['WinterBlues', 'FordExplorer', 'Ford']</td>\n",
              "      <td>2020-02-05 17:00</td>\n",
              "    </tr>\n",
              "    <tr>\n",
              "      <th>4</th>\n",
              "      <td>Photo</td>\n",
              "      <td>https://instagram.flux1-1.fna.fbcdn.net/v/t51....</td>\n",
              "      <td>Save the slippery for the slopes.\\n∙\\n‘Slipper...</td>\n",
              "      <td>42625</td>\n",
              "      <td>303</td>\n",
              "      <td>['FordEscape', 'WinterSafety', 'WinterDriving'...</td>\n",
              "      <td>2020-02-04 16:27</td>\n",
              "    </tr>\n",
              "    <tr>\n",
              "      <th>...</th>\n",
              "      <td>...</td>\n",
              "      <td>...</td>\n",
              "      <td>...</td>\n",
              "      <td>...</td>\n",
              "      <td>...</td>\n",
              "      <td>...</td>\n",
              "      <td>...</td>\n",
              "    </tr>\n",
              "    <tr>\n",
              "      <th>195</th>\n",
              "      <td>Photo</td>\n",
              "      <td>https://instagram.flux1-1.fna.fbcdn.net/v/t51....</td>\n",
              "      <td>(3/5) \"Why not two? There's no better way to f...</td>\n",
              "      <td>20561</td>\n",
              "      <td>31</td>\n",
              "      <td>['SomeDayAdventure', 'Superduty', 'Powerstroke...</td>\n",
              "      <td>2017-03-07 20:01</td>\n",
              "    </tr>\n",
              "    <tr>\n",
              "      <th>196</th>\n",
              "      <td>Photo</td>\n",
              "      <td>https://instagram.flux1-1.fna.fbcdn.net/v/t51....</td>\n",
              "      <td>(2/5) It's never been about being common place...</td>\n",
              "      <td>16727</td>\n",
              "      <td>32</td>\n",
              "      <td>['SomeDayAdventure', 'BuiltForTheWild', 'Super...</td>\n",
              "      <td>2017-03-07 17:11</td>\n",
              "    </tr>\n",
              "    <tr>\n",
              "      <th>197</th>\n",
              "      <td>Photo</td>\n",
              "      <td>https://instagram.flux1-1.fna.fbcdn.net/v/t51....</td>\n",
              "      <td>(1/5) Ascension…the act of rising to a higher ...</td>\n",
              "      <td>46886</td>\n",
              "      <td>182</td>\n",
              "      <td>['SomeDayAdventure', 'Superduty', 'Powerstroke...</td>\n",
              "      <td>2017-03-07 14:03</td>\n",
              "    </tr>\n",
              "    <tr>\n",
              "      <th>198</th>\n",
              "      <td>Photo</td>\n",
              "      <td>https://instagram.flux1-1.fna.fbcdn.net/v/t51....</td>\n",
              "      <td>How many babies do you think were named after ...</td>\n",
              "      <td>52231</td>\n",
              "      <td>250</td>\n",
              "      <td>['FordMustang', 'MustangMonday', 'MustangNatio...</td>\n",
              "      <td>2017-03-06 18:30</td>\n",
              "    </tr>\n",
              "    <tr>\n",
              "      <th>199</th>\n",
              "      <td>Photo</td>\n",
              "      <td>https://instagram.flux1-1.fna.fbcdn.net/v/t51....</td>\n",
              "      <td>Smooth pavement. Serene settings. 🙏 📷 : @evile...</td>\n",
              "      <td>27411</td>\n",
              "      <td>123</td>\n",
              "      <td>['FordFocus', 'TGIF', 'Mountains', 'BlackandWh...</td>\n",
              "      <td>2017-03-01 17:44</td>\n",
              "    </tr>\n",
              "  </tbody>\n",
              "</table>\n",
              "<p>200 rows × 7 columns</p>\n",
              "</div>"
            ],
            "text/plain": [
              "    is_video  ...              time\n",
              "0      Photo  ...  2020-02-13 17:31\n",
              "1      Photo  ...  2020-02-07 17:00\n",
              "2      Photo  ...  2020-02-06 16:54\n",
              "3      Photo  ...  2020-02-05 17:00\n",
              "4      Photo  ...  2020-02-04 16:27\n",
              "..       ...  ...               ...\n",
              "195    Photo  ...  2017-03-07 20:01\n",
              "196    Photo  ...  2017-03-07 17:11\n",
              "197    Photo  ...  2017-03-07 14:03\n",
              "198    Photo  ...  2017-03-06 18:30\n",
              "199    Photo  ...  2017-03-01 17:44\n",
              "\n",
              "[200 rows x 7 columns]"
            ]
          },
          "metadata": {
            "tags": []
          },
          "execution_count": 41
        }
      ]
    },
    {
      "cell_type": "code",
      "metadata": {
        "id": "qBcek4jQ6ci7",
        "colab_type": "code",
        "colab": {}
      },
      "source": [
        "fordfollowers = parsedjsonfordprofile['GraphProfileInfo']['info']['followers_count']"
      ],
      "execution_count": 0,
      "outputs": []
    },
    {
      "cell_type": "code",
      "metadata": {
        "id": "Pra5vexRuiqk",
        "colab_type": "code",
        "colab": {}
      },
      "source": [
        "for i in fordDF:\n",
        "  fordDF['Post Engagement'] = (sum(fordDF['like count'])+ sum(fordDF['comment count']))/ fordfollowers"
      ],
      "execution_count": 0,
      "outputs": []
    },
    {
      "cell_type": "code",
      "metadata": {
        "id": "SBQeWlTl66_r",
        "colab_type": "code",
        "colab": {}
      },
      "source": [
        "import statistics"
      ],
      "execution_count": 0,
      "outputs": []
    },
    {
      "cell_type": "code",
      "metadata": {
        "id": "QQy1ERzo6qwI",
        "colab_type": "code",
        "colab": {}
      },
      "source": [
        "fordavgpostengagement = statistics.mean(fordDF['Post Engagement'])"
      ],
      "execution_count": 0,
      "outputs": []
    },
    {
      "cell_type": "markdown",
      "metadata": {
        "id": "byYgKn-o-ze1",
        "colab_type": "text"
      },
      "source": [
        "# Volvo Calculations"
      ]
    },
    {
      "cell_type": "code",
      "metadata": {
        "id": "73ugh9u2_mYx",
        "colab_type": "code",
        "outputId": "72e156b3-4cc3-4ead-872f-8e35cf099ad3",
        "colab": {
          "base_uri": "https://localhost:8080/",
          "height": 419
        }
      },
      "source": [
        "volvoDF"
      ],
      "execution_count": 0,
      "outputs": [
        {
          "output_type": "execute_result",
          "data": {
            "text/html": [
              "<div>\n",
              "<style scoped>\n",
              "    .dataframe tbody tr th:only-of-type {\n",
              "        vertical-align: middle;\n",
              "    }\n",
              "\n",
              "    .dataframe tbody tr th {\n",
              "        vertical-align: top;\n",
              "    }\n",
              "\n",
              "    .dataframe thead th {\n",
              "        text-align: right;\n",
              "    }\n",
              "</style>\n",
              "<table border=\"1\" class=\"dataframe\">\n",
              "  <thead>\n",
              "    <tr style=\"text-align: right;\">\n",
              "      <th></th>\n",
              "      <th>is_video</th>\n",
              "      <th>display_url</th>\n",
              "      <th>caption</th>\n",
              "      <th>like count</th>\n",
              "      <th>comment count</th>\n",
              "      <th>tags</th>\n",
              "      <th>time</th>\n",
              "    </tr>\n",
              "  </thead>\n",
              "  <tbody>\n",
              "    <tr>\n",
              "      <th>0</th>\n",
              "      <td>Photo</td>\n",
              "      <td>https://instagram.flux1-1.fna.fbcdn.net/v/t51....</td>\n",
              "      <td>I sense a spark between us. #ValentinesDay #XC...</td>\n",
              "      <td>15336</td>\n",
              "      <td>79</td>\n",
              "      <td>['XC40Electric', 'ValentinesDay', 'VolvoRechar...</td>\n",
              "      <td>2020-02-14 09:22</td>\n",
              "    </tr>\n",
              "    <tr>\n",
              "      <th>1</th>\n",
              "      <td>Video</td>\n",
              "      <td>https://instagram.flux1-1.fna.fbcdn.net/v/t51....</td>\n",
              "      <td>Electric is not enough, and we’re part of the ...</td>\n",
              "      <td>3915</td>\n",
              "      <td>56</td>\n",
              "      <td>['VolvoRecharged']</td>\n",
              "      <td>2020-02-12 09:40</td>\n",
              "    </tr>\n",
              "    <tr>\n",
              "      <th>2</th>\n",
              "      <td>Photo</td>\n",
              "      <td>https://instagram.flux1-1.fna.fbcdn.net/v/t51....</td>\n",
              "      <td>With higher ground clearance comes new destina...</td>\n",
              "      <td>29628</td>\n",
              "      <td>188</td>\n",
              "      <td>[]</td>\n",
              "      <td>2020-02-05 10:19</td>\n",
              "    </tr>\n",
              "    <tr>\n",
              "      <th>3</th>\n",
              "      <td>Photo</td>\n",
              "      <td>https://instagram.flux1-1.fna.fbcdn.net/v/t51....</td>\n",
              "      <td>Appreciating the serene nature with an #XC90. ...</td>\n",
              "      <td>13703</td>\n",
              "      <td>58</td>\n",
              "      <td>['VolvoRecharged', 'XC90']</td>\n",
              "      <td>2020-01-29 12:15</td>\n",
              "    </tr>\n",
              "    <tr>\n",
              "      <th>4</th>\n",
              "      <td>Photo</td>\n",
              "      <td>https://instagram.flux1-1.fna.fbcdn.net/v/t51....</td>\n",
              "      <td>Holding onto those moments of calmness. #XC90 ...</td>\n",
              "      <td>21278</td>\n",
              "      <td>156</td>\n",
              "      <td>['VolvoRecharged', 'XC90']</td>\n",
              "      <td>2020-01-22 09:32</td>\n",
              "    </tr>\n",
              "    <tr>\n",
              "      <th>...</th>\n",
              "      <td>...</td>\n",
              "      <td>...</td>\n",
              "      <td>...</td>\n",
              "      <td>...</td>\n",
              "      <td>...</td>\n",
              "      <td>...</td>\n",
              "      <td>...</td>\n",
              "    </tr>\n",
              "    <tr>\n",
              "      <th>195</th>\n",
              "      <td>Photo</td>\n",
              "      <td>https://instagram.flux1-1.fna.fbcdn.net/v/t51....</td>\n",
              "      <td>Reimagine the wheel. Without the wheel. Find o...</td>\n",
              "      <td>41520</td>\n",
              "      <td>303</td>\n",
              "      <td>['360c']</td>\n",
              "      <td>2018-09-18 09:19</td>\n",
              "    </tr>\n",
              "    <tr>\n",
              "      <th>196</th>\n",
              "      <td>Photo</td>\n",
              "      <td>https://instagram.flux1-1.fna.fbcdn.net/v/t51....</td>\n",
              "      <td>Introducing our vision for the future of trave...</td>\n",
              "      <td>25463</td>\n",
              "      <td>105</td>\n",
              "      <td>['360c']</td>\n",
              "      <td>2018-09-14 07:00</td>\n",
              "    </tr>\n",
              "    <tr>\n",
              "      <th>197</th>\n",
              "      <td>Video</td>\n",
              "      <td>https://instagram.flux1-1.fna.fbcdn.net/v/t51....</td>\n",
              "      <td>Here are some highlights from the reveal of th...</td>\n",
              "      <td>11114</td>\n",
              "      <td>117</td>\n",
              "      <td>['360c']</td>\n",
              "      <td>2018-09-13 08:41</td>\n",
              "    </tr>\n",
              "    <tr>\n",
              "      <th>198</th>\n",
              "      <td>Video</td>\n",
              "      <td>https://instagram.flux1-1.fna.fbcdn.net/v/t51....</td>\n",
              "      <td>The future of travelling is autonomous, smooth...</td>\n",
              "      <td>14763</td>\n",
              "      <td>350</td>\n",
              "      <td>['360c']</td>\n",
              "      <td>2018-09-05 10:50</td>\n",
              "    </tr>\n",
              "    <tr>\n",
              "      <th>199</th>\n",
              "      <td>Video</td>\n",
              "      <td>https://instagram.flux1-1.fna.fbcdn.net/v/t51....</td>\n",
              "      <td>How do you envision the future of travel? The ...</td>\n",
              "      <td>12549</td>\n",
              "      <td>133</td>\n",
              "      <td>['360c']</td>\n",
              "      <td>2018-09-03 07:02</td>\n",
              "    </tr>\n",
              "  </tbody>\n",
              "</table>\n",
              "<p>200 rows × 7 columns</p>\n",
              "</div>"
            ],
            "text/plain": [
              "    is_video  ...              time\n",
              "0      Photo  ...  2020-02-14 09:22\n",
              "1      Video  ...  2020-02-12 09:40\n",
              "2      Photo  ...  2020-02-05 10:19\n",
              "3      Photo  ...  2020-01-29 12:15\n",
              "4      Photo  ...  2020-01-22 09:32\n",
              "..       ...  ...               ...\n",
              "195    Photo  ...  2018-09-18 09:19\n",
              "196    Photo  ...  2018-09-14 07:00\n",
              "197    Video  ...  2018-09-13 08:41\n",
              "198    Video  ...  2018-09-05 10:50\n",
              "199    Video  ...  2018-09-03 07:02\n",
              "\n",
              "[200 rows x 7 columns]"
            ]
          },
          "metadata": {
            "tags": []
          },
          "execution_count": 132
        }
      ]
    },
    {
      "cell_type": "code",
      "metadata": {
        "id": "vjpK0DaI-285",
        "colab_type": "code",
        "colab": {}
      },
      "source": [
        "volvofollowers = parsedjsonvolvoprofile['GraphProfileInfo']['info']['followers_count']"
      ],
      "execution_count": 0,
      "outputs": []
    },
    {
      "cell_type": "code",
      "metadata": {
        "id": "GZ1tv2f4E9d-",
        "colab_type": "code",
        "colab": {}
      },
      "source": [
        "for i in volvoDF:\n",
        "  volvoDF['Post Engagement'] = (sum(volvoDF['like count'])+ sum(volvoDF['comment count']))/ volvofollowers"
      ],
      "execution_count": 0,
      "outputs": []
    },
    {
      "cell_type": "code",
      "metadata": {
        "id": "Q7TuxdxYFBGQ",
        "colab_type": "code",
        "colab": {}
      },
      "source": [
        "volvoavgpostengagement = statistics.mean(volvoDF['Post Engagement'])"
      ],
      "execution_count": 0,
      "outputs": []
    },
    {
      "cell_type": "markdown",
      "metadata": {
        "id": "lopP-WfB_Jsz",
        "colab_type": "text"
      },
      "source": [
        "#Dodge Calculations"
      ]
    },
    {
      "cell_type": "code",
      "metadata": {
        "id": "MqB7A2qV_bp4",
        "colab_type": "code",
        "colab": {}
      },
      "source": [
        "dodgefollowers = parsedjsondodgeprofile['GraphProfileInfo']['info']['followers_count']"
      ],
      "execution_count": 0,
      "outputs": []
    },
    {
      "cell_type": "code",
      "metadata": {
        "id": "1Nyqw94uG2c5",
        "colab_type": "code",
        "colab": {}
      },
      "source": [
        "for i in dodgeDF:\n",
        "  dodgeDF['Post Engagement'] = (sum(dodgeDF['like count'])+ sum(dodgeDF['comment count']))/ dodgefollowers"
      ],
      "execution_count": 0,
      "outputs": []
    },
    {
      "cell_type": "code",
      "metadata": {
        "id": "Kdl_4pDfG2lC",
        "colab_type": "code",
        "colab": {}
      },
      "source": [
        "dodgeavgpostengagement = statistics.mean(dodgeDF['Post Engagement'])"
      ],
      "execution_count": 0,
      "outputs": []
    },
    {
      "cell_type": "markdown",
      "metadata": {
        "id": "0kGJuHkw_LMQ",
        "colab_type": "text"
      },
      "source": [
        "# Chevrolet Calculations\n"
      ]
    },
    {
      "cell_type": "code",
      "metadata": {
        "id": "WJpwLjNS_fjw",
        "colab_type": "code",
        "colab": {}
      },
      "source": [
        "chevroletfollowers = parsedjsonchevroletprofile['GraphProfileInfo']['info']['followers_count']"
      ],
      "execution_count": 0,
      "outputs": []
    },
    {
      "cell_type": "code",
      "metadata": {
        "id": "_wX4bFuaG3wn",
        "colab_type": "code",
        "colab": {}
      },
      "source": [
        "for i in chevroletDF:\n",
        "  chevroletDF['Post Engagement'] = (sum(chevroletDF['like count'])+ sum(chevroletDF['comment count']))/ chevroletfollowers"
      ],
      "execution_count": 0,
      "outputs": []
    },
    {
      "cell_type": "code",
      "metadata": {
        "id": "wM2h-sdLG32v",
        "colab_type": "code",
        "colab": {}
      },
      "source": [
        "chevroletavgpostengagement = statistics.mean(chevroletDF['Post Engagement'])"
      ],
      "execution_count": 0,
      "outputs": []
    },
    {
      "cell_type": "markdown",
      "metadata": {
        "id": "6cKKXmRy_Nnu",
        "colab_type": "text"
      },
      "source": [
        "# Honda Calculations"
      ]
    },
    {
      "cell_type": "code",
      "metadata": {
        "id": "yEP_v401_jIl",
        "colab_type": "code",
        "colab": {}
      },
      "source": [
        "hondafollowers = parsedjsonhondaprofile['GraphProfileInfo']['info']['followers_count']"
      ],
      "execution_count": 0,
      "outputs": []
    },
    {
      "cell_type": "code",
      "metadata": {
        "id": "Iy_Fpn_7G42v",
        "colab_type": "code",
        "colab": {}
      },
      "source": [
        "for i in hondaDF:\n",
        "  hondaDF['Post Engagement'] = (sum(hondaDF['like count'])+ sum(hondaDF['comment count']))/ hondafollowers"
      ],
      "execution_count": 0,
      "outputs": []
    },
    {
      "cell_type": "code",
      "metadata": {
        "id": "TZfQUYA7G5Aa",
        "colab_type": "code",
        "colab": {}
      },
      "source": [
        "hondaavgpostengagement = statistics.mean(hondaDF['Post Engagement'])"
      ],
      "execution_count": 0,
      "outputs": []
    },
    {
      "cell_type": "markdown",
      "metadata": {
        "id": "jtQtMjUN74Oa",
        "colab_type": "text"
      },
      "source": [
        "# Average Post Engagement Rates\n"
      ]
    },
    {
      "cell_type": "code",
      "metadata": {
        "id": "TSV8sNUgv0En",
        "colab_type": "code",
        "outputId": "e8478386-e97a-495b-e3cd-f7f295ceabcf",
        "colab": {
          "base_uri": "https://localhost:8080/",
          "height": 34
        }
      },
      "source": [
        "fordavgpostengagement"
      ],
      "execution_count": 0,
      "outputs": [
        {
          "output_type": "execute_result",
          "data": {
            "text/plain": [
              "2.6765647186983426"
            ]
          },
          "metadata": {
            "tags": []
          },
          "execution_count": 99
        }
      ]
    },
    {
      "cell_type": "code",
      "metadata": {
        "id": "t4wTNmZm7-8Q",
        "colab_type": "code",
        "outputId": "787fab85-2aab-4b79-fa10-b7de5d01f2da",
        "colab": {
          "base_uri": "https://localhost:8080/",
          "height": 34
        }
      },
      "source": [
        "volvoavgpostengagement"
      ],
      "execution_count": 0,
      "outputs": [
        {
          "output_type": "execute_result",
          "data": {
            "text/plain": [
              "2.7378891257542857"
            ]
          },
          "metadata": {
            "tags": []
          },
          "execution_count": 137
        }
      ]
    },
    {
      "cell_type": "code",
      "metadata": {
        "id": "nT491BWL7_Cj",
        "colab_type": "code",
        "outputId": "0e73950f-8997-44f3-b5b3-22b5b5e92b93",
        "colab": {
          "base_uri": "https://localhost:8080/",
          "height": 34
        }
      },
      "source": [
        "dodgeavgpostengagement"
      ],
      "execution_count": 0,
      "outputs": [
        {
          "output_type": "execute_result",
          "data": {
            "text/plain": [
              "4.175391908631421"
            ]
          },
          "metadata": {
            "tags": []
          },
          "execution_count": 138
        }
      ]
    },
    {
      "cell_type": "code",
      "metadata": {
        "id": "5VP8Y8jr7_ID",
        "colab_type": "code",
        "outputId": "ad9d7951-31df-4e63-ec79-c96bedbd07cd",
        "colab": {
          "base_uri": "https://localhost:8080/",
          "height": 34
        }
      },
      "source": [
        "chevroletavgpostengagement"
      ],
      "execution_count": 0,
      "outputs": [
        {
          "output_type": "execute_result",
          "data": {
            "text/plain": [
              "3.4616356466851133"
            ]
          },
          "metadata": {
            "tags": []
          },
          "execution_count": 143
        }
      ]
    },
    {
      "cell_type": "code",
      "metadata": {
        "id": "AEWzbayh7_PU",
        "colab_type": "code",
        "outputId": "667c3e8c-a800-46b9-9ba3-618296a87bb5",
        "colab": {
          "base_uri": "https://localhost:8080/",
          "height": 34
        }
      },
      "source": [
        "hondaavgpostengagement"
      ],
      "execution_count": 0,
      "outputs": [
        {
          "output_type": "execute_result",
          "data": {
            "text/plain": [
              "0.8488182071242392"
            ]
          },
          "metadata": {
            "tags": []
          },
          "execution_count": 144
        }
      ]
    },
    {
      "cell_type": "markdown",
      "metadata": {
        "id": "2_v3MF9wupCQ",
        "colab_type": "text"
      },
      "source": [
        "Dodge has the highest average post engagement rate.\n",
        "Honda's engagement rate is the lowest compared to its competitors. Honda's engagement rate is 0.85 while the others' rates do not go below 2.5."
      ]
    }
  ]
}