{
  "nbformat": 4,
  "nbformat_minor": 0,
  "metadata": {
    "colab": {
      "name": "HW 8",
      "provenance": [],
      "collapsed_sections": [],
      "authorship_tag": "ABX9TyNhjx9tqK1204g6pQvGCt14",
      "include_colab_link": true
    },
    "kernelspec": {
      "name": "python3",
      "display_name": "Python 3"
    }
  },
  "cells": [
    {
      "cell_type": "markdown",
      "metadata": {
        "id": "view-in-github",
        "colab_type": "text"
      },
      "source": [
        "<a href=\"https://colab.research.google.com/github/mbparsons/code/blob/master/Merging%20ad%20spend%20data%20%26%20Google%20Trends%20data.ipynb\" target=\"_parent\"><img src=\"https://colab.research.google.com/assets/colab-badge.svg\" alt=\"Open In Colab\"/></a>"
      ]
    },
    {
      "cell_type": "code",
      "metadata": {
        "id": "u8TS0wUKakhQ",
        "colab_type": "code",
        "outputId": "ed4e1486-a70b-4e68-8bb2-de4de4f63cb5",
        "colab": {
          "base_uri": "https://localhost:8080/",
          "height": 189
        }
      },
      "source": [
        "from google.colab import drive\n",
        "drive.mount('/content/drive')"
      ],
      "execution_count": 0,
      "outputs": [
        {
          "output_type": "stream",
          "text": [
            "Go to this URL in a browser: https://accounts.google.com/o/oauth2/auth?client_id=947318989803-6bn6qk8qdgf4n4g3pfee6491hc0brc4i.apps.googleusercontent.com&redirect_uri=urn%3aietf%3awg%3aoauth%3a2.0%3aoob&response_type=code&scope=email%20https%3a%2f%2fwww.googleapis.com%2fauth%2fdocs.test%20https%3a%2f%2fwww.googleapis.com%2fauth%2fdrive%20https%3a%2f%2fwww.googleapis.com%2fauth%2fdrive.photos.readonly%20https%3a%2f%2fwww.googleapis.com%2fauth%2fpeopleapi.readonly\n",
            "\n",
            "Enter your authorization code:\n",
            "··········\n",
            "Mounted at /content/drive\n"
          ],
          "name": "stdout"
        }
      ]
    },
    {
      "cell_type": "code",
      "metadata": {
        "id": "fqdIjDSqbLVO",
        "colab_type": "code",
        "colab": {}
      },
      "source": [
        "import pandas as pd\n",
        "import numpy as np\n",
        "import seaborn as sns"
      ],
      "execution_count": 0,
      "outputs": []
    },
    {
      "cell_type": "code",
      "metadata": {
        "id": "Uwe5zwvba2WR",
        "colab_type": "code",
        "colab": {}
      },
      "source": [
        "data = 'drive/My Drive/Colab Notebooks/mercedesbenz.googletrends.csv'\n",
        "mb = pd.read_csv(data,parse_dates=['period'])"
      ],
      "execution_count": 0,
      "outputs": []
    },
    {
      "cell_type": "code",
      "metadata": {
        "id": "V_w5botFbwnf",
        "colab_type": "code",
        "outputId": "db7ba8d5-98c0-4188-ae3c-7e9c7defb09d",
        "colab": {
          "base_uri": "https://localhost:8080/",
          "height": 204
        }
      },
      "source": [
        "mb.head()"
      ],
      "execution_count": 0,
      "outputs": [
        {
          "output_type": "execute_result",
          "data": {
            "text/html": [
              "<div>\n",
              "<style scoped>\n",
              "    .dataframe tbody tr th:only-of-type {\n",
              "        vertical-align: middle;\n",
              "    }\n",
              "\n",
              "    .dataframe tbody tr th {\n",
              "        vertical-align: top;\n",
              "    }\n",
              "\n",
              "    .dataframe thead th {\n",
              "        text-align: right;\n",
              "    }\n",
              "</style>\n",
              "<table border=\"1\" class=\"dataframe\">\n",
              "  <thead>\n",
              "    <tr style=\"text-align: right;\">\n",
              "      <th></th>\n",
              "      <th>Unnamed: 0</th>\n",
              "      <th>date</th>\n",
              "      <th>value</th>\n",
              "      <th>period</th>\n",
              "      <th>onediffvalue</th>\n",
              "    </tr>\n",
              "  </thead>\n",
              "  <tbody>\n",
              "    <tr>\n",
              "      <th>0</th>\n",
              "      <td>0</td>\n",
              "      <td>Oct 07 2013</td>\n",
              "      <td>3997.423359</td>\n",
              "      <td>2013-10-07</td>\n",
              "      <td>NaN</td>\n",
              "    </tr>\n",
              "    <tr>\n",
              "      <th>1</th>\n",
              "      <td>1</td>\n",
              "      <td>Oct 08 2013</td>\n",
              "      <td>4175.337771</td>\n",
              "      <td>2013-10-08</td>\n",
              "      <td>177.914412</td>\n",
              "    </tr>\n",
              "    <tr>\n",
              "      <th>2</th>\n",
              "      <td>2</td>\n",
              "      <td>Oct 09 2013</td>\n",
              "      <td>4024.925648</td>\n",
              "      <td>2013-10-09</td>\n",
              "      <td>-150.412123</td>\n",
              "    </tr>\n",
              "    <tr>\n",
              "      <th>3</th>\n",
              "      <td>3</td>\n",
              "      <td>Oct 10 2013</td>\n",
              "      <td>3887.818761</td>\n",
              "      <td>2013-10-10</td>\n",
              "      <td>-137.106887</td>\n",
              "    </tr>\n",
              "    <tr>\n",
              "      <th>4</th>\n",
              "      <td>4</td>\n",
              "      <td>Oct 11 2013</td>\n",
              "      <td>4111.597680</td>\n",
              "      <td>2013-10-11</td>\n",
              "      <td>223.778919</td>\n",
              "    </tr>\n",
              "  </tbody>\n",
              "</table>\n",
              "</div>"
            ],
            "text/plain": [
              "   Unnamed: 0         date        value     period  onediffvalue\n",
              "0           0  Oct 07 2013  3997.423359 2013-10-07           NaN\n",
              "1           1  Oct 08 2013  4175.337771 2013-10-08    177.914412\n",
              "2           2  Oct 09 2013  4024.925648 2013-10-09   -150.412123\n",
              "3           3  Oct 10 2013  3887.818761 2013-10-10   -137.106887\n",
              "4           4  Oct 11 2013  4111.597680 2013-10-11    223.778919"
            ]
          },
          "metadata": {
            "tags": []
          },
          "execution_count": 4
        }
      ]
    },
    {
      "cell_type": "code",
      "metadata": {
        "id": "IOhLgDlvc9p9",
        "colab_type": "code",
        "colab": {}
      },
      "source": [
        "mb['date'] = pd.to_datetime(mb['date'])"
      ],
      "execution_count": 0,
      "outputs": []
    },
    {
      "cell_type": "markdown",
      "metadata": {
        "id": "liqCbqoYblqO",
        "colab_type": "text"
      },
      "source": [
        "Weeks start on Monday."
      ]
    },
    {
      "cell_type": "code",
      "metadata": {
        "id": "BZ38QTQ9bOKN",
        "colab_type": "code",
        "colab": {}
      },
      "source": [
        "df1 = mb.resample('W', on='date', label = 'left', loffset= '1D').mean()"
      ],
      "execution_count": 0,
      "outputs": []
    },
    {
      "cell_type": "code",
      "metadata": {
        "id": "6bYxarLni174",
        "colab_type": "code",
        "outputId": "8cd0f7ae-8422-4708-ff4a-e6bdaecc9e3b",
        "colab": {
          "base_uri": "https://localhost:8080/",
          "height": 235
        }
      },
      "source": [
        "df1.head()"
      ],
      "execution_count": 0,
      "outputs": [
        {
          "output_type": "execute_result",
          "data": {
            "text/html": [
              "<div>\n",
              "<style scoped>\n",
              "    .dataframe tbody tr th:only-of-type {\n",
              "        vertical-align: middle;\n",
              "    }\n",
              "\n",
              "    .dataframe tbody tr th {\n",
              "        vertical-align: top;\n",
              "    }\n",
              "\n",
              "    .dataframe thead th {\n",
              "        text-align: right;\n",
              "    }\n",
              "</style>\n",
              "<table border=\"1\" class=\"dataframe\">\n",
              "  <thead>\n",
              "    <tr style=\"text-align: right;\">\n",
              "      <th></th>\n",
              "      <th>Unnamed: 0</th>\n",
              "      <th>value</th>\n",
              "      <th>onediffvalue</th>\n",
              "    </tr>\n",
              "    <tr>\n",
              "      <th>date</th>\n",
              "      <th></th>\n",
              "      <th></th>\n",
              "      <th></th>\n",
              "    </tr>\n",
              "  </thead>\n",
              "  <tbody>\n",
              "    <tr>\n",
              "      <th>2013-10-07</th>\n",
              "      <td>3</td>\n",
              "      <td>4122.608701</td>\n",
              "      <td>27.059775</td>\n",
              "    </tr>\n",
              "    <tr>\n",
              "      <th>2013-10-14</th>\n",
              "      <td>10</td>\n",
              "      <td>4073.020551</td>\n",
              "      <td>-8.473709</td>\n",
              "    </tr>\n",
              "    <tr>\n",
              "      <th>2013-10-21</th>\n",
              "      <td>17</td>\n",
              "      <td>4106.416964</td>\n",
              "      <td>14.768580</td>\n",
              "    </tr>\n",
              "    <tr>\n",
              "      <th>2013-10-28</th>\n",
              "      <td>24</td>\n",
              "      <td>3942.066792</td>\n",
              "      <td>-15.370406</td>\n",
              "    </tr>\n",
              "    <tr>\n",
              "      <th>2013-11-04</th>\n",
              "      <td>31</td>\n",
              "      <td>3643.773861</td>\n",
              "      <td>-46.529863</td>\n",
              "    </tr>\n",
              "  </tbody>\n",
              "</table>\n",
              "</div>"
            ],
            "text/plain": [
              "            Unnamed: 0        value  onediffvalue\n",
              "date                                             \n",
              "2013-10-07           3  4122.608701     27.059775\n",
              "2013-10-14          10  4073.020551     -8.473709\n",
              "2013-10-21          17  4106.416964     14.768580\n",
              "2013-10-28          24  3942.066792    -15.370406\n",
              "2013-11-04          31  3643.773861    -46.529863"
            ]
          },
          "metadata": {
            "tags": []
          },
          "execution_count": 7
        }
      ]
    },
    {
      "cell_type": "code",
      "metadata": {
        "id": "halqFrQni5z3",
        "colab_type": "code",
        "colab": {}
      },
      "source": [
        "data = 'drive/My Drive/Colab Notebooks/mercedesbenz.adspend.csv'\n",
        "mb = pd.read_csv(data)"
      ],
      "execution_count": 0,
      "outputs": []
    },
    {
      "cell_type": "code",
      "metadata": {
        "id": "Nn8Nzi6mjDnf",
        "colab_type": "code",
        "colab": {}
      },
      "source": [
        "mb['TIME PERIOD'] = mb['TIME PERIOD'].str.replace(\"WEEK OF\\ \",\"\") "
      ],
      "execution_count": 0,
      "outputs": []
    },
    {
      "cell_type": "code",
      "metadata": {
        "id": "8ojyECOCjDqc",
        "colab_type": "code",
        "colab": {}
      },
      "source": [
        "mb['TIME PERIOD'] = mb['TIME PERIOD'].str.replace(\"\\ \\(B\\)\",\"\") "
      ],
      "execution_count": 0,
      "outputs": []
    },
    {
      "cell_type": "code",
      "metadata": {
        "id": "ZoODzkWjjDtj",
        "colab_type": "code",
        "colab": {}
      },
      "source": [
        "mb['TIME PERIOD'] = pd.to_datetime(mb['TIME PERIOD'])"
      ],
      "execution_count": 0,
      "outputs": []
    },
    {
      "cell_type": "code",
      "metadata": {
        "id": "77eJq6VqjDw6",
        "colab_type": "code",
        "colab": {}
      },
      "source": [
        "mb.columns = mb.columns.str.replace(\"\\ DOLS \\(000\\)\",\"\")"
      ],
      "execution_count": 0,
      "outputs": []
    },
    {
      "cell_type": "code",
      "metadata": {
        "id": "ubgFP57ajPyr",
        "colab_type": "code",
        "colab": {}
      },
      "source": [
        "timedata = pd.pivot_table(mb,index=[\"TIME PERIOD\"],values=['TOTAL','NETWORK TV','CABLE TV','SYNDICATION','SPOT TV','MAGAZINES','SUNDAY MAGS','NATL NEWSP','NEWSPAPER','NETWORK RADIO','NAT SPOT RADIO','OUTDOOR'],aggfunc=np.sum)"
      ],
      "execution_count": 0,
      "outputs": []
    },
    {
      "cell_type": "code",
      "metadata": {
        "id": "aGv0oqbLjXNS",
        "colab_type": "code",
        "outputId": "f0b76977-2c71-459a-9d16-9b0ded7040fb",
        "colab": {
          "base_uri": "https://localhost:8080/",
          "height": 411
        }
      },
      "source": [
        "timedata.head()"
      ],
      "execution_count": 0,
      "outputs": [
        {
          "output_type": "execute_result",
          "data": {
            "text/html": [
              "<div>\n",
              "<style scoped>\n",
              "    .dataframe tbody tr th:only-of-type {\n",
              "        vertical-align: middle;\n",
              "    }\n",
              "\n",
              "    .dataframe tbody tr th {\n",
              "        vertical-align: top;\n",
              "    }\n",
              "\n",
              "    .dataframe thead th {\n",
              "        text-align: right;\n",
              "    }\n",
              "</style>\n",
              "<table border=\"1\" class=\"dataframe\">\n",
              "  <thead>\n",
              "    <tr style=\"text-align: right;\">\n",
              "      <th></th>\n",
              "      <th>CABLE TV</th>\n",
              "      <th>MAGAZINES</th>\n",
              "      <th>NAT SPOT RADIO</th>\n",
              "      <th>NATL NEWSP</th>\n",
              "      <th>NETWORK RADIO</th>\n",
              "      <th>NETWORK TV</th>\n",
              "      <th>NEWSPAPER</th>\n",
              "      <th>OUTDOOR</th>\n",
              "      <th>SPOT TV</th>\n",
              "      <th>SUNDAY MAGS</th>\n",
              "      <th>SYNDICATION</th>\n",
              "      <th>TOTAL</th>\n",
              "    </tr>\n",
              "    <tr>\n",
              "      <th>TIME PERIOD</th>\n",
              "      <th></th>\n",
              "      <th></th>\n",
              "      <th></th>\n",
              "      <th></th>\n",
              "      <th></th>\n",
              "      <th></th>\n",
              "      <th></th>\n",
              "      <th></th>\n",
              "      <th></th>\n",
              "      <th></th>\n",
              "      <th></th>\n",
              "      <th></th>\n",
              "    </tr>\n",
              "  </thead>\n",
              "  <tbody>\n",
              "    <tr>\n",
              "      <th>2013-10-07</th>\n",
              "      <td>1942.7</td>\n",
              "      <td>1058.2</td>\n",
              "      <td>0.2</td>\n",
              "      <td>0.0</td>\n",
              "      <td>65.9</td>\n",
              "      <td>1313.8</td>\n",
              "      <td>0.0</td>\n",
              "      <td>0.0</td>\n",
              "      <td>2130.2</td>\n",
              "      <td>0.0</td>\n",
              "      <td>0.0</td>\n",
              "      <td>6511.0</td>\n",
              "    </tr>\n",
              "    <tr>\n",
              "      <th>2013-10-14</th>\n",
              "      <td>2151.5</td>\n",
              "      <td>49.8</td>\n",
              "      <td>0.2</td>\n",
              "      <td>475.5</td>\n",
              "      <td>65.9</td>\n",
              "      <td>3855.3</td>\n",
              "      <td>0.0</td>\n",
              "      <td>0.0</td>\n",
              "      <td>1210.9</td>\n",
              "      <td>0.0</td>\n",
              "      <td>0.0</td>\n",
              "      <td>7809.1</td>\n",
              "    </tr>\n",
              "    <tr>\n",
              "      <th>2013-10-21</th>\n",
              "      <td>2076.5</td>\n",
              "      <td>705.3</td>\n",
              "      <td>0.2</td>\n",
              "      <td>0.0</td>\n",
              "      <td>65.9</td>\n",
              "      <td>2860.4</td>\n",
              "      <td>0.0</td>\n",
              "      <td>0.0</td>\n",
              "      <td>1822.7</td>\n",
              "      <td>0.0</td>\n",
              "      <td>0.0</td>\n",
              "      <td>7531.2</td>\n",
              "    </tr>\n",
              "    <tr>\n",
              "      <th>2013-10-28</th>\n",
              "      <td>2089.9</td>\n",
              "      <td>3400.3</td>\n",
              "      <td>0.4</td>\n",
              "      <td>0.0</td>\n",
              "      <td>67.6</td>\n",
              "      <td>4891.6</td>\n",
              "      <td>6.7</td>\n",
              "      <td>181.6</td>\n",
              "      <td>1669.5</td>\n",
              "      <td>0.0</td>\n",
              "      <td>2.0</td>\n",
              "      <td>12309.6</td>\n",
              "    </tr>\n",
              "    <tr>\n",
              "      <th>2013-11-04</th>\n",
              "      <td>484.1</td>\n",
              "      <td>356.0</td>\n",
              "      <td>0.6</td>\n",
              "      <td>0.0</td>\n",
              "      <td>69.9</td>\n",
              "      <td>4014.6</td>\n",
              "      <td>0.0</td>\n",
              "      <td>0.0</td>\n",
              "      <td>10.0</td>\n",
              "      <td>0.0</td>\n",
              "      <td>0.0</td>\n",
              "      <td>4935.2</td>\n",
              "    </tr>\n",
              "  </tbody>\n",
              "</table>\n",
              "</div>"
            ],
            "text/plain": [
              "             CABLE TV  MAGAZINES  ...  SYNDICATION    TOTAL\n",
              "TIME PERIOD                       ...                      \n",
              "2013-10-07     1942.7     1058.2  ...          0.0   6511.0\n",
              "2013-10-14     2151.5       49.8  ...          0.0   7809.1\n",
              "2013-10-21     2076.5      705.3  ...          0.0   7531.2\n",
              "2013-10-28     2089.9     3400.3  ...          2.0  12309.6\n",
              "2013-11-04      484.1      356.0  ...          0.0   4935.2\n",
              "\n",
              "[5 rows x 12 columns]"
            ]
          },
          "metadata": {
            "tags": []
          },
          "execution_count": 14
        }
      ]
    },
    {
      "cell_type": "code",
      "metadata": {
        "id": "rDqkS03xjZ0K",
        "colab_type": "code",
        "colab": {}
      },
      "source": [
        "final = df1.join(timedata)"
      ],
      "execution_count": 0,
      "outputs": []
    },
    {
      "cell_type": "code",
      "metadata": {
        "id": "7JrQuaXWkn2j",
        "colab_type": "code",
        "outputId": "8c58bd5d-ff42-48be-902b-1303d9662e32",
        "colab": {
          "base_uri": "https://localhost:8080/",
          "height": 394
        }
      },
      "source": [
        "final.head()"
      ],
      "execution_count": 0,
      "outputs": [
        {
          "output_type": "execute_result",
          "data": {
            "text/html": [
              "<div>\n",
              "<style scoped>\n",
              "    .dataframe tbody tr th:only-of-type {\n",
              "        vertical-align: middle;\n",
              "    }\n",
              "\n",
              "    .dataframe tbody tr th {\n",
              "        vertical-align: top;\n",
              "    }\n",
              "\n",
              "    .dataframe thead th {\n",
              "        text-align: right;\n",
              "    }\n",
              "</style>\n",
              "<table border=\"1\" class=\"dataframe\">\n",
              "  <thead>\n",
              "    <tr style=\"text-align: right;\">\n",
              "      <th></th>\n",
              "      <th>Unnamed: 0</th>\n",
              "      <th>value</th>\n",
              "      <th>onediffvalue</th>\n",
              "      <th>CABLE TV</th>\n",
              "      <th>MAGAZINES</th>\n",
              "      <th>NAT SPOT RADIO</th>\n",
              "      <th>NATL NEWSP</th>\n",
              "      <th>NETWORK RADIO</th>\n",
              "      <th>NETWORK TV</th>\n",
              "      <th>NEWSPAPER</th>\n",
              "      <th>OUTDOOR</th>\n",
              "      <th>SPOT TV</th>\n",
              "      <th>SUNDAY MAGS</th>\n",
              "      <th>SYNDICATION</th>\n",
              "      <th>TOTAL</th>\n",
              "    </tr>\n",
              "    <tr>\n",
              "      <th>date</th>\n",
              "      <th></th>\n",
              "      <th></th>\n",
              "      <th></th>\n",
              "      <th></th>\n",
              "      <th></th>\n",
              "      <th></th>\n",
              "      <th></th>\n",
              "      <th></th>\n",
              "      <th></th>\n",
              "      <th></th>\n",
              "      <th></th>\n",
              "      <th></th>\n",
              "      <th></th>\n",
              "      <th></th>\n",
              "      <th></th>\n",
              "    </tr>\n",
              "  </thead>\n",
              "  <tbody>\n",
              "    <tr>\n",
              "      <th>2013-10-07</th>\n",
              "      <td>3</td>\n",
              "      <td>4122.608701</td>\n",
              "      <td>27.059775</td>\n",
              "      <td>1942.7</td>\n",
              "      <td>1058.2</td>\n",
              "      <td>0.2</td>\n",
              "      <td>0.0</td>\n",
              "      <td>65.9</td>\n",
              "      <td>1313.8</td>\n",
              "      <td>0.0</td>\n",
              "      <td>0.0</td>\n",
              "      <td>2130.2</td>\n",
              "      <td>0.0</td>\n",
              "      <td>0.0</td>\n",
              "      <td>6511.0</td>\n",
              "    </tr>\n",
              "    <tr>\n",
              "      <th>2013-10-14</th>\n",
              "      <td>10</td>\n",
              "      <td>4073.020551</td>\n",
              "      <td>-8.473709</td>\n",
              "      <td>2151.5</td>\n",
              "      <td>49.8</td>\n",
              "      <td>0.2</td>\n",
              "      <td>475.5</td>\n",
              "      <td>65.9</td>\n",
              "      <td>3855.3</td>\n",
              "      <td>0.0</td>\n",
              "      <td>0.0</td>\n",
              "      <td>1210.9</td>\n",
              "      <td>0.0</td>\n",
              "      <td>0.0</td>\n",
              "      <td>7809.1</td>\n",
              "    </tr>\n",
              "    <tr>\n",
              "      <th>2013-10-21</th>\n",
              "      <td>17</td>\n",
              "      <td>4106.416964</td>\n",
              "      <td>14.768580</td>\n",
              "      <td>2076.5</td>\n",
              "      <td>705.3</td>\n",
              "      <td>0.2</td>\n",
              "      <td>0.0</td>\n",
              "      <td>65.9</td>\n",
              "      <td>2860.4</td>\n",
              "      <td>0.0</td>\n",
              "      <td>0.0</td>\n",
              "      <td>1822.7</td>\n",
              "      <td>0.0</td>\n",
              "      <td>0.0</td>\n",
              "      <td>7531.2</td>\n",
              "    </tr>\n",
              "    <tr>\n",
              "      <th>2013-10-28</th>\n",
              "      <td>24</td>\n",
              "      <td>3942.066792</td>\n",
              "      <td>-15.370406</td>\n",
              "      <td>2089.9</td>\n",
              "      <td>3400.3</td>\n",
              "      <td>0.4</td>\n",
              "      <td>0.0</td>\n",
              "      <td>67.6</td>\n",
              "      <td>4891.6</td>\n",
              "      <td>6.7</td>\n",
              "      <td>181.6</td>\n",
              "      <td>1669.5</td>\n",
              "      <td>0.0</td>\n",
              "      <td>2.0</td>\n",
              "      <td>12309.6</td>\n",
              "    </tr>\n",
              "    <tr>\n",
              "      <th>2013-11-04</th>\n",
              "      <td>31</td>\n",
              "      <td>3643.773861</td>\n",
              "      <td>-46.529863</td>\n",
              "      <td>484.1</td>\n",
              "      <td>356.0</td>\n",
              "      <td>0.6</td>\n",
              "      <td>0.0</td>\n",
              "      <td>69.9</td>\n",
              "      <td>4014.6</td>\n",
              "      <td>0.0</td>\n",
              "      <td>0.0</td>\n",
              "      <td>10.0</td>\n",
              "      <td>0.0</td>\n",
              "      <td>0.0</td>\n",
              "      <td>4935.2</td>\n",
              "    </tr>\n",
              "  </tbody>\n",
              "</table>\n",
              "</div>"
            ],
            "text/plain": [
              "            Unnamed: 0        value  ...  SYNDICATION    TOTAL\n",
              "date                                 ...                      \n",
              "2013-10-07           3  4122.608701  ...          0.0   6511.0\n",
              "2013-10-14          10  4073.020551  ...          0.0   7809.1\n",
              "2013-10-21          17  4106.416964  ...          0.0   7531.2\n",
              "2013-10-28          24  3942.066792  ...          2.0  12309.6\n",
              "2013-11-04          31  3643.773861  ...          0.0   4935.2\n",
              "\n",
              "[5 rows x 15 columns]"
            ]
          },
          "metadata": {
            "tags": []
          },
          "execution_count": 16
        }
      ]
    },
    {
      "cell_type": "code",
      "metadata": {
        "id": "O5rJCzJckyCj",
        "colab_type": "code",
        "colab": {}
      },
      "source": [
        "final = final.drop(['Unnamed: 0','onediffvalue','TOTAL'], axis=1)"
      ],
      "execution_count": 0,
      "outputs": []
    },
    {
      "cell_type": "code",
      "metadata": {
        "id": "1yiLZ_gjmadq",
        "colab_type": "code",
        "outputId": "d8da3e6e-c980-46bd-9c6f-9fa7d0c5095b",
        "colab": {
          "base_uri": "https://localhost:8080/",
          "height": 394
        }
      },
      "source": [
        "final.head()"
      ],
      "execution_count": 0,
      "outputs": [
        {
          "output_type": "execute_result",
          "data": {
            "text/html": [
              "<div>\n",
              "<style scoped>\n",
              "    .dataframe tbody tr th:only-of-type {\n",
              "        vertical-align: middle;\n",
              "    }\n",
              "\n",
              "    .dataframe tbody tr th {\n",
              "        vertical-align: top;\n",
              "    }\n",
              "\n",
              "    .dataframe thead th {\n",
              "        text-align: right;\n",
              "    }\n",
              "</style>\n",
              "<table border=\"1\" class=\"dataframe\">\n",
              "  <thead>\n",
              "    <tr style=\"text-align: right;\">\n",
              "      <th></th>\n",
              "      <th>value</th>\n",
              "      <th>CABLE TV</th>\n",
              "      <th>MAGAZINES</th>\n",
              "      <th>NAT SPOT RADIO</th>\n",
              "      <th>NATL NEWSP</th>\n",
              "      <th>NETWORK RADIO</th>\n",
              "      <th>NETWORK TV</th>\n",
              "      <th>NEWSPAPER</th>\n",
              "      <th>OUTDOOR</th>\n",
              "      <th>SPOT TV</th>\n",
              "      <th>SUNDAY MAGS</th>\n",
              "      <th>SYNDICATION</th>\n",
              "    </tr>\n",
              "    <tr>\n",
              "      <th>date</th>\n",
              "      <th></th>\n",
              "      <th></th>\n",
              "      <th></th>\n",
              "      <th></th>\n",
              "      <th></th>\n",
              "      <th></th>\n",
              "      <th></th>\n",
              "      <th></th>\n",
              "      <th></th>\n",
              "      <th></th>\n",
              "      <th></th>\n",
              "      <th></th>\n",
              "    </tr>\n",
              "  </thead>\n",
              "  <tbody>\n",
              "    <tr>\n",
              "      <th>2013-10-07</th>\n",
              "      <td>4122.608701</td>\n",
              "      <td>1942.7</td>\n",
              "      <td>1058.2</td>\n",
              "      <td>0.2</td>\n",
              "      <td>0.0</td>\n",
              "      <td>65.9</td>\n",
              "      <td>1313.8</td>\n",
              "      <td>0.0</td>\n",
              "      <td>0.0</td>\n",
              "      <td>2130.2</td>\n",
              "      <td>0.0</td>\n",
              "      <td>0.0</td>\n",
              "    </tr>\n",
              "    <tr>\n",
              "      <th>2013-10-14</th>\n",
              "      <td>4073.020551</td>\n",
              "      <td>2151.5</td>\n",
              "      <td>49.8</td>\n",
              "      <td>0.2</td>\n",
              "      <td>475.5</td>\n",
              "      <td>65.9</td>\n",
              "      <td>3855.3</td>\n",
              "      <td>0.0</td>\n",
              "      <td>0.0</td>\n",
              "      <td>1210.9</td>\n",
              "      <td>0.0</td>\n",
              "      <td>0.0</td>\n",
              "    </tr>\n",
              "    <tr>\n",
              "      <th>2013-10-21</th>\n",
              "      <td>4106.416964</td>\n",
              "      <td>2076.5</td>\n",
              "      <td>705.3</td>\n",
              "      <td>0.2</td>\n",
              "      <td>0.0</td>\n",
              "      <td>65.9</td>\n",
              "      <td>2860.4</td>\n",
              "      <td>0.0</td>\n",
              "      <td>0.0</td>\n",
              "      <td>1822.7</td>\n",
              "      <td>0.0</td>\n",
              "      <td>0.0</td>\n",
              "    </tr>\n",
              "    <tr>\n",
              "      <th>2013-10-28</th>\n",
              "      <td>3942.066792</td>\n",
              "      <td>2089.9</td>\n",
              "      <td>3400.3</td>\n",
              "      <td>0.4</td>\n",
              "      <td>0.0</td>\n",
              "      <td>67.6</td>\n",
              "      <td>4891.6</td>\n",
              "      <td>6.7</td>\n",
              "      <td>181.6</td>\n",
              "      <td>1669.5</td>\n",
              "      <td>0.0</td>\n",
              "      <td>2.0</td>\n",
              "    </tr>\n",
              "    <tr>\n",
              "      <th>2013-11-04</th>\n",
              "      <td>3643.773861</td>\n",
              "      <td>484.1</td>\n",
              "      <td>356.0</td>\n",
              "      <td>0.6</td>\n",
              "      <td>0.0</td>\n",
              "      <td>69.9</td>\n",
              "      <td>4014.6</td>\n",
              "      <td>0.0</td>\n",
              "      <td>0.0</td>\n",
              "      <td>10.0</td>\n",
              "      <td>0.0</td>\n",
              "      <td>0.0</td>\n",
              "    </tr>\n",
              "  </tbody>\n",
              "</table>\n",
              "</div>"
            ],
            "text/plain": [
              "                  value  CABLE TV  MAGAZINES  ...  SPOT TV  SUNDAY MAGS  SYNDICATION\n",
              "date                                          ...                                   \n",
              "2013-10-07  4122.608701    1942.7     1058.2  ...   2130.2          0.0          0.0\n",
              "2013-10-14  4073.020551    2151.5       49.8  ...   1210.9          0.0          0.0\n",
              "2013-10-21  4106.416964    2076.5      705.3  ...   1822.7          0.0          0.0\n",
              "2013-10-28  3942.066792    2089.9     3400.3  ...   1669.5          0.0          2.0\n",
              "2013-11-04  3643.773861     484.1      356.0  ...     10.0          0.0          0.0\n",
              "\n",
              "[5 rows x 12 columns]"
            ]
          },
          "metadata": {
            "tags": []
          },
          "execution_count": 18
        }
      ]
    },
    {
      "cell_type": "code",
      "metadata": {
        "id": "saYHOtYSkLMU",
        "colab_type": "code",
        "colab": {}
      },
      "source": [
        "from string import ascii_letters\n",
        "import matplotlib.pyplot as plt"
      ],
      "execution_count": 0,
      "outputs": []
    },
    {
      "cell_type": "code",
      "metadata": {
        "id": "-8-wFgmvlE3r",
        "colab_type": "code",
        "outputId": "3761dada-83d4-46f6-faf7-740c3078042c",
        "colab": {
          "base_uri": "https://localhost:8080/",
          "height": 546
        }
      },
      "source": [
        "corr = final.corr()\n",
        "corr"
      ],
      "execution_count": 0,
      "outputs": [
        {
          "output_type": "execute_result",
          "data": {
            "text/html": [
              "<div>\n",
              "<style scoped>\n",
              "    .dataframe tbody tr th:only-of-type {\n",
              "        vertical-align: middle;\n",
              "    }\n",
              "\n",
              "    .dataframe tbody tr th {\n",
              "        vertical-align: top;\n",
              "    }\n",
              "\n",
              "    .dataframe thead th {\n",
              "        text-align: right;\n",
              "    }\n",
              "</style>\n",
              "<table border=\"1\" class=\"dataframe\">\n",
              "  <thead>\n",
              "    <tr style=\"text-align: right;\">\n",
              "      <th></th>\n",
              "      <th>value</th>\n",
              "      <th>CABLE TV</th>\n",
              "      <th>MAGAZINES</th>\n",
              "      <th>NAT SPOT RADIO</th>\n",
              "      <th>NATL NEWSP</th>\n",
              "      <th>NETWORK RADIO</th>\n",
              "      <th>NETWORK TV</th>\n",
              "      <th>NEWSPAPER</th>\n",
              "      <th>OUTDOOR</th>\n",
              "      <th>SPOT TV</th>\n",
              "      <th>SUNDAY MAGS</th>\n",
              "      <th>SYNDICATION</th>\n",
              "    </tr>\n",
              "  </thead>\n",
              "  <tbody>\n",
              "    <tr>\n",
              "      <th>value</th>\n",
              "      <td>1.000000</td>\n",
              "      <td>0.129790</td>\n",
              "      <td>-0.074324</td>\n",
              "      <td>-0.033151</td>\n",
              "      <td>-0.114441</td>\n",
              "      <td>0.129731</td>\n",
              "      <td>0.033319</td>\n",
              "      <td>0.109694</td>\n",
              "      <td>-0.198217</td>\n",
              "      <td>0.140637</td>\n",
              "      <td>0.106349</td>\n",
              "      <td>-0.043775</td>\n",
              "    </tr>\n",
              "    <tr>\n",
              "      <th>CABLE TV</th>\n",
              "      <td>0.129790</td>\n",
              "      <td>1.000000</td>\n",
              "      <td>0.060639</td>\n",
              "      <td>0.026786</td>\n",
              "      <td>0.188095</td>\n",
              "      <td>-0.011125</td>\n",
              "      <td>0.413298</td>\n",
              "      <td>0.097719</td>\n",
              "      <td>-0.023052</td>\n",
              "      <td>0.249623</td>\n",
              "      <td>0.027857</td>\n",
              "      <td>0.175320</td>\n",
              "    </tr>\n",
              "    <tr>\n",
              "      <th>MAGAZINES</th>\n",
              "      <td>-0.074324</td>\n",
              "      <td>0.060639</td>\n",
              "      <td>1.000000</td>\n",
              "      <td>0.037290</td>\n",
              "      <td>-0.046631</td>\n",
              "      <td>-0.025368</td>\n",
              "      <td>0.093764</td>\n",
              "      <td>0.064883</td>\n",
              "      <td>0.645499</td>\n",
              "      <td>0.080139</td>\n",
              "      <td>0.143893</td>\n",
              "      <td>-0.032943</td>\n",
              "    </tr>\n",
              "    <tr>\n",
              "      <th>NAT SPOT RADIO</th>\n",
              "      <td>-0.033151</td>\n",
              "      <td>0.026786</td>\n",
              "      <td>0.037290</td>\n",
              "      <td>1.000000</td>\n",
              "      <td>0.089201</td>\n",
              "      <td>0.073605</td>\n",
              "      <td>0.032461</td>\n",
              "      <td>0.001731</td>\n",
              "      <td>0.040453</td>\n",
              "      <td>-0.026018</td>\n",
              "      <td>0.106700</td>\n",
              "      <td>0.006459</td>\n",
              "    </tr>\n",
              "    <tr>\n",
              "      <th>NATL NEWSP</th>\n",
              "      <td>-0.114441</td>\n",
              "      <td>0.188095</td>\n",
              "      <td>-0.046631</td>\n",
              "      <td>0.089201</td>\n",
              "      <td>1.000000</td>\n",
              "      <td>0.399412</td>\n",
              "      <td>0.055684</td>\n",
              "      <td>-0.051845</td>\n",
              "      <td>-0.059273</td>\n",
              "      <td>0.157581</td>\n",
              "      <td>0.049852</td>\n",
              "      <td>0.073500</td>\n",
              "    </tr>\n",
              "    <tr>\n",
              "      <th>NETWORK RADIO</th>\n",
              "      <td>0.129731</td>\n",
              "      <td>-0.011125</td>\n",
              "      <td>-0.025368</td>\n",
              "      <td>0.073605</td>\n",
              "      <td>0.399412</td>\n",
              "      <td>1.000000</td>\n",
              "      <td>-0.119105</td>\n",
              "      <td>-0.106050</td>\n",
              "      <td>-0.033969</td>\n",
              "      <td>0.130891</td>\n",
              "      <td>-0.011209</td>\n",
              "      <td>0.047707</td>\n",
              "    </tr>\n",
              "    <tr>\n",
              "      <th>NETWORK TV</th>\n",
              "      <td>0.033319</td>\n",
              "      <td>0.413298</td>\n",
              "      <td>0.093764</td>\n",
              "      <td>0.032461</td>\n",
              "      <td>0.055684</td>\n",
              "      <td>-0.119105</td>\n",
              "      <td>1.000000</td>\n",
              "      <td>0.006549</td>\n",
              "      <td>0.034767</td>\n",
              "      <td>0.122837</td>\n",
              "      <td>0.036033</td>\n",
              "      <td>0.227634</td>\n",
              "    </tr>\n",
              "    <tr>\n",
              "      <th>NEWSPAPER</th>\n",
              "      <td>0.109694</td>\n",
              "      <td>0.097719</td>\n",
              "      <td>0.064883</td>\n",
              "      <td>0.001731</td>\n",
              "      <td>-0.051845</td>\n",
              "      <td>-0.106050</td>\n",
              "      <td>0.006549</td>\n",
              "      <td>1.000000</td>\n",
              "      <td>-0.021801</td>\n",
              "      <td>-0.021427</td>\n",
              "      <td>0.027292</td>\n",
              "      <td>-0.031804</td>\n",
              "    </tr>\n",
              "    <tr>\n",
              "      <th>OUTDOOR</th>\n",
              "      <td>-0.198217</td>\n",
              "      <td>-0.023052</td>\n",
              "      <td>0.645499</td>\n",
              "      <td>0.040453</td>\n",
              "      <td>-0.059273</td>\n",
              "      <td>-0.033969</td>\n",
              "      <td>0.034767</td>\n",
              "      <td>-0.021801</td>\n",
              "      <td>1.000000</td>\n",
              "      <td>-0.003184</td>\n",
              "      <td>0.039967</td>\n",
              "      <td>0.053226</td>\n",
              "    </tr>\n",
              "    <tr>\n",
              "      <th>SPOT TV</th>\n",
              "      <td>0.140637</td>\n",
              "      <td>0.249623</td>\n",
              "      <td>0.080139</td>\n",
              "      <td>-0.026018</td>\n",
              "      <td>0.157581</td>\n",
              "      <td>0.130891</td>\n",
              "      <td>0.122837</td>\n",
              "      <td>-0.021427</td>\n",
              "      <td>-0.003184</td>\n",
              "      <td>1.000000</td>\n",
              "      <td>-0.020952</td>\n",
              "      <td>-0.024820</td>\n",
              "    </tr>\n",
              "    <tr>\n",
              "      <th>SUNDAY MAGS</th>\n",
              "      <td>0.106349</td>\n",
              "      <td>0.027857</td>\n",
              "      <td>0.143893</td>\n",
              "      <td>0.106700</td>\n",
              "      <td>0.049852</td>\n",
              "      <td>-0.011209</td>\n",
              "      <td>0.036033</td>\n",
              "      <td>0.027292</td>\n",
              "      <td>0.039967</td>\n",
              "      <td>-0.020952</td>\n",
              "      <td>1.000000</td>\n",
              "      <td>-0.020601</td>\n",
              "    </tr>\n",
              "    <tr>\n",
              "      <th>SYNDICATION</th>\n",
              "      <td>-0.043775</td>\n",
              "      <td>0.175320</td>\n",
              "      <td>-0.032943</td>\n",
              "      <td>0.006459</td>\n",
              "      <td>0.073500</td>\n",
              "      <td>0.047707</td>\n",
              "      <td>0.227634</td>\n",
              "      <td>-0.031804</td>\n",
              "      <td>0.053226</td>\n",
              "      <td>-0.024820</td>\n",
              "      <td>-0.020601</td>\n",
              "      <td>1.000000</td>\n",
              "    </tr>\n",
              "  </tbody>\n",
              "</table>\n",
              "</div>"
            ],
            "text/plain": [
              "                   value  CABLE TV  ...  SUNDAY MAGS  SYNDICATION\n",
              "value           1.000000  0.129790  ...     0.106349    -0.043775\n",
              "CABLE TV        0.129790  1.000000  ...     0.027857     0.175320\n",
              "MAGAZINES      -0.074324  0.060639  ...     0.143893    -0.032943\n",
              "NAT SPOT RADIO -0.033151  0.026786  ...     0.106700     0.006459\n",
              "NATL NEWSP     -0.114441  0.188095  ...     0.049852     0.073500\n",
              "NETWORK RADIO   0.129731 -0.011125  ...    -0.011209     0.047707\n",
              "NETWORK TV      0.033319  0.413298  ...     0.036033     0.227634\n",
              "NEWSPAPER       0.109694  0.097719  ...     0.027292    -0.031804\n",
              "OUTDOOR        -0.198217 -0.023052  ...     0.039967     0.053226\n",
              "SPOT TV         0.140637  0.249623  ...    -0.020952    -0.024820\n",
              "SUNDAY MAGS     0.106349  0.027857  ...     1.000000    -0.020601\n",
              "SYNDICATION    -0.043775  0.175320  ...    -0.020601     1.000000\n",
              "\n",
              "[12 rows x 12 columns]"
            ]
          },
          "metadata": {
            "tags": []
          },
          "execution_count": 20
        }
      ]
    },
    {
      "cell_type": "code",
      "metadata": {
        "id": "SiweTh4ckO00",
        "colab_type": "code",
        "outputId": "d1de6aa6-1fb3-4429-d262-e57537448615",
        "colab": {
          "base_uri": "https://localhost:8080/",
          "height": 642
        }
      },
      "source": [
        "sns.set(style=\"white\")\n",
        "mask = np.triu(np.ones_like(corr, dtype=np.bool))\n",
        "f, ax = plt.subplots(figsize=(11, 9))\n",
        "cmap = sns.diverging_palette(220, 10, as_cmap=True)\n",
        "sns.heatmap(corr, mask=mask, cmap=cmap, vmax=.3, center=0,\n",
        "            square=True, linewidths=.5, cbar_kws={\"shrink\": .5})"
      ],
      "execution_count": 0,
      "outputs": [
        {
          "output_type": "execute_result",
          "data": {
            "text/plain": [
              "<matplotlib.axes._subplots.AxesSubplot at 0x7fb4c7babb00>"
            ]
          },
          "metadata": {
            "tags": []
          },
          "execution_count": 21
        },
        {
          "output_type": "display_data",
          "data": {
            "image/png": "[encoded data removed]",
            "text/plain": [
              "<Figure size 792x648 with 2 Axes>"
            ]
          },
          "metadata": {
            "tags": []
          }
        }
      ]
    },
    {
      "cell_type": "markdown",
      "metadata": {
        "id": "BH99H60jm881",
        "colab_type": "text"
      },
      "source": [
        "The strongest correlation is between NATL NEWSP and NETWORK RADIO. MAGAZINES and OUTDOOR, NETWORK TV and CABLE TV, and value and OUTDOOR also have strong correlations."
      ]
    },
    {
      "cell_type": "markdown",
      "metadata": {
        "id": "MS0x1u2JtMmO",
        "colab_type": "text"
      },
      "source": [
        "# Granger Causality"
      ]
    },
    {
      "cell_type": "code",
      "metadata": {
        "id": "n2lTNPj3tCR8",
        "colab_type": "code",
        "colab": {}
      },
      "source": [
        "import statsmodels.api as sm\n",
        "from statsmodels.tsa.stattools import grangercausalitytests"
      ],
      "execution_count": 0,
      "outputs": []
    },
    {
      "cell_type": "code",
      "metadata": {
        "id": "cvzf8fRiAF94",
        "colab_type": "code",
        "colab": {}
      },
      "source": [
        "mag = final[['value', 'MAGAZINES']]"
      ],
      "execution_count": 0,
      "outputs": []
    },
    {
      "cell_type": "code",
      "metadata": {
        "id": "eX5pvGsUJWCS",
        "colab_type": "code",
        "colab": {}
      },
      "source": [
        "out = final[['value', 'OUTDOOR']]"
      ],
      "execution_count": 0,
      "outputs": []
    },
    {
      "cell_type": "code",
      "metadata": {
        "id": "Qd-yEMJBJcZ9",
        "colab_type": "code",
        "outputId": "322bca64-8a5c-4211-b16e-10efdff38088",
        "colab": {
          "base_uri": "https://localhost:8080/",
          "height": 493
        }
      },
      "source": [
        "magresults = grangercausalitytests(mag,4)"
      ],
      "execution_count": 0,
      "outputs": [
        {
          "output_type": "stream",
          "text": [
            "\n",
            "Granger Causality\n",
            "number of lags (no zero) 1\n",
            "ssr based F test:         F=3.5937  , p=0.0591  , df_denom=257, df_num=1\n",
            "ssr based chi2 test:   chi2=3.6357  , p=0.0566  , df=1\n",
            "likelihood ratio test: chi2=3.6105  , p=0.0574  , df=1\n",
            "parameter F test:         F=3.5937  , p=0.0591  , df_denom=257, df_num=1\n",
            "\n",
            "Granger Causality\n",
            "number of lags (no zero) 2\n",
            "ssr based F test:         F=3.8185  , p=0.0232  , df_denom=254, df_num=2\n",
            "ssr based chi2 test:   chi2=7.7873  , p=0.0204  , df=2\n",
            "likelihood ratio test: chi2=7.6725  , p=0.0216  , df=2\n",
            "parameter F test:         F=3.8185  , p=0.0232  , df_denom=254, df_num=2\n",
            "\n",
            "Granger Causality\n",
            "number of lags (no zero) 3\n",
            "ssr based F test:         F=3.9301  , p=0.0091  , df_denom=251, df_num=3\n",
            "ssr based chi2 test:   chi2=12.1192 , p=0.0070  , df=3\n",
            "likelihood ratio test: chi2=11.8431 , p=0.0079  , df=3\n",
            "parameter F test:         F=3.9301  , p=0.0091  , df_denom=251, df_num=3\n",
            "\n",
            "Granger Causality\n",
            "number of lags (no zero) 4\n",
            "ssr based F test:         F=4.1936  , p=0.0026  , df_denom=248, df_num=4\n",
            "ssr based chi2 test:   chi2=17.3833 , p=0.0016  , df=4\n",
            "likelihood ratio test: chi2=16.8206 , p=0.0021  , df=4\n",
            "parameter F test:         F=4.1936  , p=0.0026  , df_denom=248, df_num=4\n"
          ],
          "name": "stdout"
        }
      ]
    },
    {
      "cell_type": "code",
      "metadata": {
        "id": "WQ_bXRNILwg_",
        "colab_type": "code",
        "outputId": "16c2eaca-fce1-4cfa-deea-c0ddfb60f418",
        "colab": {
          "base_uri": "https://localhost:8080/",
          "height": 153
        }
      },
      "source": [
        "for i in range(1,5):\n",
        "  if magresults[i][0]['params_ftest'][1] < 0.5:\n",
        "    print(magresults[i][0]['params_ftest'][1])\n",
        "    print(\"The Granger Test is significant with a \" + str(i) + \" week lag\" )"
      ],
      "execution_count": 0,
      "outputs": [
        {
          "output_type": "stream",
          "text": [
            "0.05912063158903121\n",
            "The Granger Test is significant with a 1 week lag\n",
            "0.02323291937041543\n",
            "The Granger Test is significant with a 2 week lag\n",
            "0.009117495965246167\n",
            "The Granger Test is significant with a 3 week lag\n",
            "0.0026459895842776316\n",
            "The Granger Test is significant with a 4 week lag\n"
          ],
          "name": "stdout"
        }
      ]
    },
    {
      "cell_type": "code",
      "metadata": {
        "id": "D-d4p8uuJ0yd",
        "colab_type": "code",
        "outputId": "af78bec7-1f2c-4f7c-9740-8bc1da1dd10b",
        "colab": {
          "base_uri": "https://localhost:8080/",
          "height": 493
        }
      },
      "source": [
        "outresults = grangercausalitytests(out,4)"
      ],
      "execution_count": 0,
      "outputs": [
        {
          "output_type": "stream",
          "text": [
            "\n",
            "Granger Causality\n",
            "number of lags (no zero) 1\n",
            "ssr based F test:         F=5.4971  , p=0.0198  , df_denom=257, df_num=1\n",
            "ssr based chi2 test:   chi2=5.5612  , p=0.0184  , df=1\n",
            "likelihood ratio test: chi2=5.5026  , p=0.0190  , df=1\n",
            "parameter F test:         F=5.4971  , p=0.0198  , df_denom=257, df_num=1\n",
            "\n",
            "Granger Causality\n",
            "number of lags (no zero) 2\n",
            "ssr based F test:         F=5.7192  , p=0.0037  , df_denom=254, df_num=2\n",
            "ssr based chi2 test:   chi2=11.6635 , p=0.0029  , df=2\n",
            "likelihood ratio test: chi2=11.4085 , p=0.0033  , df=2\n",
            "parameter F test:         F=5.7192  , p=0.0037  , df_denom=254, df_num=2\n",
            "\n",
            "Granger Causality\n",
            "number of lags (no zero) 3\n",
            "ssr based F test:         F=5.3908  , p=0.0013  , df_denom=251, df_num=3\n",
            "ssr based chi2 test:   chi2=16.6234 , p=0.0008  , df=3\n",
            "likelihood ratio test: chi2=16.1098 , p=0.0011  , df=3\n",
            "parameter F test:         F=5.3908  , p=0.0013  , df_denom=251, df_num=3\n",
            "\n",
            "Granger Causality\n",
            "number of lags (no zero) 4\n",
            "ssr based F test:         F=3.7874  , p=0.0052  , df_denom=248, df_num=4\n",
            "ssr based chi2 test:   chi2=15.6993 , p=0.0035  , df=4\n",
            "likelihood ratio test: chi2=15.2384 , p=0.0042  , df=4\n",
            "parameter F test:         F=3.7874  , p=0.0052  , df_denom=248, df_num=4\n"
          ],
          "name": "stdout"
        }
      ]
    },
    {
      "cell_type": "code",
      "metadata": {
        "id": "8ichX6kaQEOK",
        "colab_type": "code",
        "outputId": "f7adf75d-12e8-4433-894d-835aa9c1393d",
        "colab": {
          "base_uri": "https://localhost:8080/",
          "height": 153
        }
      },
      "source": [
        "for i in range(1,5):\n",
        "  if outresults[i][0]['params_ftest'][1] < 0.5:\n",
        "    print(outresults[i][0]['params_ftest'][1])\n",
        "    print(\"The Granger Test is significant with a \" + str(i) + \" week lag\" )"
      ],
      "execution_count": 0,
      "outputs": [
        {
          "output_type": "stream",
          "text": [
            "0.019810107113915162\n",
            "The Granger Test is significant with a 1 week lag\n",
            "0.003719547786008316\n",
            "The Granger Test is significant with a 2 week lag\n",
            "0.0013041139049766346\n",
            "The Granger Test is significant with a 3 week lag\n",
            "0.005217307649852048\n",
            "The Granger Test is significant with a 4 week lag\n"
          ],
          "name": "stdout"
        }
      ]
    },
    {
      "cell_type": "markdown",
      "metadata": {
        "id": "RZNj4iQO_CTw",
        "colab_type": "text"
      },
      "source": [
        "It appears possible that magazine advertising has a delayed effect on Google Trends.\n",
        "\n",
        "It appears possible that outdoor advertising has a delayed effect on Google Trends."
      ]
    }
  ]
}